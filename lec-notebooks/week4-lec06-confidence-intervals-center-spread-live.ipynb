{
 "cells": [
  {
   "cell_type": "code",
   "execution_count": 2,
   "metadata": {},
   "outputs": [],
   "source": [
    "from datascience import *\n",
    "%matplotlib inline\n",
    "import matplotlib.pyplot as plots\n",
    "plots.style.use('fivethirtyeight')\n",
    "import numpy as np"
   ]
  },
  {
   "cell_type": "markdown",
   "metadata": {},
   "source": [
    "## Bootstrap review: Santa Barbara County Salaries in 2020"
   ]
  },
  {
   "cell_type": "markdown",
   "metadata": {},
   "source": [
    "[Government Compensation in California](https://publicpay.ca.gov/Reports/Counties/County.aspx?entityid=42&year=2020)\n",
    "Let's look at how much Santa Barbara County employees got paid in 2020."
   ]
  },
  {
   "cell_type": "code",
   "execution_count": 4,
   "metadata": {},
   "outputs": [
    {
     "name": "stdout",
     "output_type": "stream",
     "text": [
      "Population median is $ 77666\n"
     ]
    },
    {
     "data": {
      "text/html": [
       "<table border=\"1\" class=\"dataframe\">\n",
       "    <thead>\n",
       "        <tr>\n",
       "            <th>Year</th> <th>EmployerType</th> <th>EmployerName</th> <th>DepartmentOrSubdivision</th> <th>Position</th> <th>ElectedOfficial</th> <th>Judicial</th> <th>OtherPositions</th> <th>MinPositionSalary</th> <th>MaxPositionSalary</th> <th>ReportedBaseWage</th> <th>RegularPay</th> <th>OvertimePay</th> <th>LumpSumPay</th> <th>OtherPay</th> <th>TotalWages</th> <th>DefinedBenefitPlanContribution</th> <th>EmployeesRetirementCostCovered</th> <th>DeferredCompensationPlan</th> <th>HealthDentalVision</th> <th>TotalRetirementAndHealthContribution</th> <th>PensionFormula</th> <th>EmployerURL</th> <th>EmployerPopulation</th> <th>LastUpdatedDate</th> <th>EmployerCounty</th> <th>SpecialDistrictActivities</th> <th>IncludesUnfundedLiability</th> <th>SpecialDistrictType</th>\n",
       "        </tr>\n",
       "    </thead>\n",
       "    <tbody>\n",
       "        <tr>\n",
       "            <td>2020</td> <td>County      </td> <td>Santa Barbara</td> <td>Fire                   </td> <td>Fire Captain Shift                       </td> <td>False          </td> <td>False   </td> <td>nan           </td> <td>75841            </td> <td>91368            </td> <td>nan             </td> <td>108424    </td> <td>318368     </td> <td>0         </td> <td>22086   </td> <td>448878    </td> <td>48865                         </td> <td>0                             </td> <td>0                       </td> <td>26883             </td> <td>75748                               </td> <td>3% @ 55       </td> <td>http://co.santa-barbara.ca.us/hr</td> <td>441172            </td> <td>10/08/2021     </td> <td>Santa Barbara </td> <td>nan                      </td> <td>False                    </td> <td>nan                </td>\n",
       "        </tr>\n",
       "        <tr>\n",
       "            <td>2020</td> <td>County      </td> <td>Santa Barbara</td> <td>Fire                   </td> <td>Fire Captain Shift                       </td> <td>False          </td> <td>False   </td> <td>nan           </td> <td>75841            </td> <td>91368            </td> <td>nan             </td> <td>125587    </td> <td>246957     </td> <td>0         </td> <td>32565   </td> <td>405109    </td> <td>51306                         </td> <td>0                             </td> <td>0                       </td> <td>0                 </td> <td>51306                               </td> <td>3% @ 55       </td> <td>http://co.santa-barbara.ca.us/hr</td> <td>441172            </td> <td>10/08/2021     </td> <td>Santa Barbara </td> <td>nan                      </td> <td>False                    </td> <td>nan                </td>\n",
       "        </tr>\n",
       "        <tr>\n",
       "            <td>2020</td> <td>County      </td> <td>Santa Barbara</td> <td>Fire                   </td> <td>Fire Engineering Inspector Shift         </td> <td>False          </td> <td>False   </td> <td>nan           </td> <td>66379            </td> <td>79810            </td> <td>nan             </td> <td>107884    </td> <td>264208     </td> <td>0         </td> <td>20778   </td> <td>392870    </td> <td>44560                         </td> <td>0                             </td> <td>0                       </td> <td>11785             </td> <td>56345                               </td> <td>3% @ 55       </td> <td>http://co.santa-barbara.ca.us/hr</td> <td>441172            </td> <td>10/08/2021     </td> <td>Santa Barbara </td> <td>nan                      </td> <td>False                    </td> <td>nan                </td>\n",
       "        </tr>\n",
       "        <tr>\n",
       "            <td>2020</td> <td>County      </td> <td>Santa Barbara</td> <td>Fire                   </td> <td>Fire Captain Staff                       </td> <td>False          </td> <td>False   </td> <td>nan           </td> <td>106182           </td> <td>127918           </td> <td>nan             </td> <td>121238    </td> <td>188530     </td> <td>0         </td> <td>20266   </td> <td>330034    </td> <td>47138                         </td> <td>0                             </td> <td>0                       </td> <td>14310             </td> <td>61448                               </td> <td>3% @ 55       </td> <td>http://co.santa-barbara.ca.us/hr</td> <td>441172            </td> <td>10/08/2021     </td> <td>Santa Barbara </td> <td>nan                      </td> <td>False                    </td> <td>nan                </td>\n",
       "        </tr>\n",
       "        <tr>\n",
       "            <td>2020</td> <td>County      </td> <td>Santa Barbara</td> <td>Public Health          </td> <td>Staff Physician                          </td> <td>False          </td> <td>False   </td> <td>nan           </td> <td>204108           </td> <td>233101           </td> <td>nan             </td> <td>221535    </td> <td>53160      </td> <td>0         </td> <td>34332   </td> <td>309027    </td> <td>10506                         </td> <td>0                             </td> <td>0                       </td> <td>17954             </td> <td>28460                               </td> <td>2% @ 62       </td> <td>http://co.santa-barbara.ca.us/hr</td> <td>441172            </td> <td>10/08/2021     </td> <td>Santa Barbara </td> <td>nan                      </td> <td>False                    </td> <td>nan                </td>\n",
       "        </tr>\n",
       "        <tr>\n",
       "            <td>2020</td> <td>County      </td> <td>Santa Barbara</td> <td>County Executive Office</td> <td>County Executive Officer                 </td> <td>False          </td> <td>False   </td> <td>nan           </td> <td>0                </td> <td>0                </td> <td>nan             </td> <td>280559    </td> <td>0          </td> <td>0         </td> <td>7800    </td> <td>288359    </td> <td>44339                         </td> <td>0                             </td> <td>5000                    </td> <td>11869             </td> <td>61208                               </td> <td>2% @ 57       </td> <td>http://co.santa-barbara.ca.us/hr</td> <td>441172            </td> <td>10/08/2021     </td> <td>Santa Barbara </td> <td>nan                      </td> <td>False                    </td> <td>nan                </td>\n",
       "        </tr>\n",
       "        <tr>\n",
       "            <td>2020</td> <td>County      </td> <td>Santa Barbara</td> <td>Fire                   </td> <td>Fire Captain Shift                       </td> <td>False          </td> <td>False   </td> <td>nan           </td> <td>75841            </td> <td>91368            </td> <td>nan             </td> <td>104497    </td> <td>160917     </td> <td>0         </td> <td>21329   </td> <td>286743    </td> <td>45988                         </td> <td>0                             </td> <td>0                       </td> <td>23076             </td> <td>69064                               </td> <td>3% @ 55       </td> <td>http://co.santa-barbara.ca.us/hr</td> <td>441172            </td> <td>10/08/2021     </td> <td>Santa Barbara </td> <td>nan                      </td> <td>False                    </td> <td>nan                </td>\n",
       "        </tr>\n",
       "        <tr>\n",
       "            <td>2020</td> <td>County      </td> <td>Santa Barbara</td> <td>Sheriff                </td> <td>Sheriffs Commander                       </td> <td>False          </td> <td>False   </td> <td>nan           </td> <td>159576           </td> <td>192824           </td> <td>nan             </td> <td>167993    </td> <td>108377     </td> <td>0         </td> <td>10291   </td> <td>286661    </td> <td>71373                         </td> <td>0                             </td> <td>0                       </td> <td>31926             </td> <td>103299                              </td> <td>3% @ 50       </td> <td>http://co.santa-barbara.ca.us/hr</td> <td>441172            </td> <td>10/08/2021     </td> <td>Santa Barbara </td> <td>nan                      </td> <td>False                    </td> <td>nan                </td>\n",
       "        </tr>\n",
       "        <tr>\n",
       "            <td>2020</td> <td>County      </td> <td>Santa Barbara</td> <td>Fire                   </td> <td>Team/Project Leader-Battalion Chief Staff</td> <td>False          </td> <td>False   </td> <td>nan           </td> <td>118134           </td> <td>173185           </td> <td>nan             </td> <td>130341    </td> <td>131884     </td> <td>0         </td> <td>22632   </td> <td>284857    </td> <td>54525                         </td> <td>0                             </td> <td>351                     </td> <td>25438             </td> <td>80314                               </td> <td>3% @ 55       </td> <td>http://co.santa-barbara.ca.us/hr</td> <td>441172            </td> <td>10/08/2021     </td> <td>Santa Barbara </td> <td>nan                      </td> <td>False                    </td> <td>nan                </td>\n",
       "        </tr>\n",
       "        <tr>\n",
       "            <td>2020</td> <td>County      </td> <td>Santa Barbara</td> <td>Fire                   </td> <td>Fire Captain Shift                       </td> <td>False          </td> <td>False   </td> <td>nan           </td> <td>75841            </td> <td>91368            </td> <td>nan             </td> <td>120097    </td> <td>149652     </td> <td>0         </td> <td>11135   </td> <td>280884    </td> <td>45299                         </td> <td>0                             </td> <td>0                       </td> <td>15520             </td> <td>60819                               </td> <td>3% @ 55       </td> <td>http://co.santa-barbara.ca.us/hr</td> <td>441172            </td> <td>10/08/2021     </td> <td>Santa Barbara </td> <td>nan                      </td> <td>False                    </td> <td>nan                </td>\n",
       "        </tr>\n",
       "    </tbody>\n",
       "</table>\n",
       "<p>... (4282 rows omitted)</p>"
      ],
      "text/plain": [
       "Year | EmployerType | EmployerName  | DepartmentOrSubdivision | Position                                  | ElectedOfficial | Judicial | OtherPositions | MinPositionSalary | MaxPositionSalary | ReportedBaseWage | RegularPay | OvertimePay | LumpSumPay | OtherPay | TotalWages | DefinedBenefitPlanContribution | EmployeesRetirementCostCovered | DeferredCompensationPlan | HealthDentalVision | TotalRetirementAndHealthContribution | PensionFormula | EmployerURL                      | EmployerPopulation | LastUpdatedDate | EmployerCounty | SpecialDistrictActivities | IncludesUnfundedLiability | SpecialDistrictType\n",
       "2020 | County       | Santa Barbara | Fire                    | Fire Captain Shift                        | False           | False    | nan            | 75841             | 91368             | nan              | 108424     | 318368      | 0          | 22086    | 448878     | 48865                          | 0                              | 0                        | 26883              | 75748                                | 3% @ 55        | http://co.santa-barbara.ca.us/hr | 441172             | 10/08/2021      | Santa Barbara  | nan                       | False                     | nan\n",
       "2020 | County       | Santa Barbara | Fire                    | Fire Captain Shift                        | False           | False    | nan            | 75841             | 91368             | nan              | 125587     | 246957      | 0          | 32565    | 405109     | 51306                          | 0                              | 0                        | 0                  | 51306                                | 3% @ 55        | http://co.santa-barbara.ca.us/hr | 441172             | 10/08/2021      | Santa Barbara  | nan                       | False                     | nan\n",
       "2020 | County       | Santa Barbara | Fire                    | Fire Engineering Inspector Shift          | False           | False    | nan            | 66379             | 79810             | nan              | 107884     | 264208      | 0          | 20778    | 392870     | 44560                          | 0                              | 0                        | 11785              | 56345                                | 3% @ 55        | http://co.santa-barbara.ca.us/hr | 441172             | 10/08/2021      | Santa Barbara  | nan                       | False                     | nan\n",
       "2020 | County       | Santa Barbara | Fire                    | Fire Captain Staff                        | False           | False    | nan            | 106182            | 127918            | nan              | 121238     | 188530      | 0          | 20266    | 330034     | 47138                          | 0                              | 0                        | 14310              | 61448                                | 3% @ 55        | http://co.santa-barbara.ca.us/hr | 441172             | 10/08/2021      | Santa Barbara  | nan                       | False                     | nan\n",
       "2020 | County       | Santa Barbara | Public Health           | Staff Physician                           | False           | False    | nan            | 204108            | 233101            | nan              | 221535     | 53160       | 0          | 34332    | 309027     | 10506                          | 0                              | 0                        | 17954              | 28460                                | 2% @ 62        | http://co.santa-barbara.ca.us/hr | 441172             | 10/08/2021      | Santa Barbara  | nan                       | False                     | nan\n",
       "2020 | County       | Santa Barbara | County Executive Office | County Executive Officer                  | False           | False    | nan            | 0                 | 0                 | nan              | 280559     | 0           | 0          | 7800     | 288359     | 44339                          | 0                              | 5000                     | 11869              | 61208                                | 2% @ 57        | http://co.santa-barbara.ca.us/hr | 441172             | 10/08/2021      | Santa Barbara  | nan                       | False                     | nan\n",
       "2020 | County       | Santa Barbara | Fire                    | Fire Captain Shift                        | False           | False    | nan            | 75841             | 91368             | nan              | 104497     | 160917      | 0          | 21329    | 286743     | 45988                          | 0                              | 0                        | 23076              | 69064                                | 3% @ 55        | http://co.santa-barbara.ca.us/hr | 441172             | 10/08/2021      | Santa Barbara  | nan                       | False                     | nan\n",
       "2020 | County       | Santa Barbara | Sheriff                 | Sheriffs Commander                        | False           | False    | nan            | 159576            | 192824            | nan              | 167993     | 108377      | 0          | 10291    | 286661     | 71373                          | 0                              | 0                        | 31926              | 103299                               | 3% @ 50        | http://co.santa-barbara.ca.us/hr | 441172             | 10/08/2021      | Santa Barbara  | nan                       | False                     | nan\n",
       "2020 | County       | Santa Barbara | Fire                    | Team/Project Leader-Battalion Chief Staff | False           | False    | nan            | 118134            | 173185            | nan              | 130341     | 131884      | 0          | 22632    | 284857     | 54525                          | 0                              | 351                      | 25438              | 80314                                | 3% @ 55        | http://co.santa-barbara.ca.us/hr | 441172             | 10/08/2021      | Santa Barbara  | nan                       | False                     | nan\n",
       "2020 | County       | Santa Barbara | Fire                    | Fire Captain Shift                        | False           | False    | nan            | 75841             | 91368             | nan              | 120097     | 149652      | 0          | 11135    | 280884     | 45299                          | 0                              | 0                        | 15520              | 60819                                | 3% @ 55        | http://co.santa-barbara.ca.us/hr | 441172             | 10/08/2021      | Santa Barbara  | nan                       | False                     | nan\n",
       "... (4282 rows omitted)"
      ]
     },
     "execution_count": 4,
     "metadata": {},
     "output_type": "execute_result"
    }
   ],
   "source": [
    "sb_pop = Table.read_table('data/santabarbara-county-salaries-2020.csv').where('TotalWages', are.above(10000))\n",
    "sb_pop = sb_pop.where('TotalWages', are.above(10*40*52))#.sort('TotalWages')\n",
    "pop_median = percentile(50, sb_pop.column('TotalWages'))\n",
    "print(\"Population median is $\", pop_median)\n",
    "\n",
    "our_sample = sb_pop.sample(300, with_replacement = False)\n",
    "#sb_pop.sort('TotalWages', descending = True)\n",
    "#our_sample\n",
    "sb_pop"
   ]
  },
  {
   "cell_type": "code",
   "execution_count": 5,
   "metadata": {},
   "outputs": [
    {
     "data": {
      "text/plain": [
       "array([ 50000,  52500,  55000,  57500,  60000,  62500,  65000,  67500,\n",
       "        70000,  72500,  75000,  77500,  80000,  82500,  85000,  87500,\n",
       "        90000,  92500,  95000,  97500, 100000])"
      ]
     },
     "execution_count": 5,
     "metadata": {},
     "output_type": "execute_result"
    }
   ],
   "source": [
    "def one_bootstrap_median():\n",
    "    single_sample = our_sample.sample()\n",
    "    return percentile(50, single_sample.column('TotalWages'))\n",
    "\n",
    "med_bins = np.arange(50000, 100001, 2500)\n",
    "med_bins"
   ]
  },
  {
   "cell_type": "code",
   "execution_count": 6,
   "metadata": {},
   "outputs": [
    {
     "name": "stdout",
     "output_type": "stream",
     "text": [
      "Help on function sample in module datascience.tables:\n",
      "\n",
      "sample(self, k=None, with_replacement=True, weights=None)\n",
      "    Return a new table where k rows are randomly sampled from the\n",
      "    original table.\n",
      "    \n",
      "    Args:\n",
      "        ``k`` -- specifies the number of rows (``int``) to be sampled from\n",
      "           the table. Default is k equal to number of rows in the table.\n",
      "    \n",
      "        ``with_replacement`` -- (``bool``) By default True;\n",
      "            Samples ``k`` rows with replacement from table, else samples\n",
      "            ``k`` rows without replacement.\n",
      "    \n",
      "        ``weights`` -- Array specifying probability the ith row of the\n",
      "            table is sampled. Defaults to None, which samples each row\n",
      "            with equal probability. ``weights`` must be a valid probability\n",
      "            distribution -- i.e. an array the length of the number of rows,\n",
      "            summing to 1.\n",
      "    \n",
      "    Raises:\n",
      "        ValueError -- if ``weights`` is not length equal to number of rows\n",
      "            in the table; or, if ``weights`` does not sum to 1.\n",
      "    \n",
      "    Returns:\n",
      "        A new instance of ``Table`` with ``k`` rows resampled.\n",
      "    \n",
      "    >>> jobs = Table().with_columns(\n",
      "    ...     'job',  make_array('a', 'b', 'c', 'd'),\n",
      "    ...     'wage', make_array(10, 20, 15, 8))\n",
      "    >>> jobs\n",
      "    job  | wage\n",
      "    a    | 10\n",
      "    b    | 20\n",
      "    c    | 15\n",
      "    d    | 8\n",
      "    >>> jobs.sample() # doctest: +SKIP\n",
      "    job  | wage\n",
      "    b    | 20\n",
      "    b    | 20\n",
      "    a    | 10\n",
      "    d    | 8\n",
      "    >>> jobs.sample(with_replacement=True) # doctest: +SKIP\n",
      "    job  | wage\n",
      "    d    | 8\n",
      "    b    | 20\n",
      "    c    | 15\n",
      "    a    | 10\n",
      "    >>> jobs.sample(k = 2) # doctest: +SKIP\n",
      "    job  | wage\n",
      "    b    | 20\n",
      "    c    | 15\n",
      "    >>> ws =  make_array(0.5, 0.5, 0, 0)\n",
      "    >>> jobs.sample(k=2, with_replacement=True, weights=ws) # doctest: +SKIP\n",
      "    job  | wage\n",
      "    a    | 10\n",
      "    a    | 10\n",
      "    >>> jobs.sample(k=2, weights=make_array(1, 0, 1, 0))\n",
      "    Traceback (most recent call last):\n",
      "        ...\n",
      "    ValueError: probabilities do not sum to 1\n",
      "    >>> jobs.sample(k=2, weights=make_array(1, 0, 0)) # Weights must be length of table.\n",
      "    Traceback (most recent call last):\n",
      "        ...\n",
      "    ValueError: 'a' and 'p' must have same size\n",
      "\n"
     ]
    }
   ],
   "source": [
    "help(Table.sample)"
   ]
  },
  {
   "cell_type": "code",
   "execution_count": 7,
   "metadata": {},
   "outputs": [
    {
     "name": "stderr",
     "output_type": "stream",
     "text": [
      "/opt/conda/lib/python3.7/site-packages/datascience/tables.py:5206: UserWarning: FixedFormatter should only be used together with FixedLocator\n",
      "  axis.set_xticklabels(ticks, rotation='vertical')\n"
     ]
    },
    {
     "data": {
      "image/png": "[encoded data removed]",
      "text/plain": [
       "<Figure size 432x288 with 1 Axes>"
      ]
     },
     "metadata": {},
     "output_type": "display_data"
    }
   ],
   "source": [
    "## Let's do the whole process, all at once: \n",
    "## 1. take a sample, \n",
    "\n",
    "our_sample = sb_pop.sample(300, with_replacement = False)\n",
    "our_sample_median = percentile(50, our_sample.column('TotalWages'))\n",
    "\n",
    "\n",
    "## 2. use it to make many bootstrap samples,\n",
    "\n",
    "bootstrap_medians = make_array()\n",
    "for i in np.arange(201):\n",
    "    new_median = one_bootstrap_median()\n",
    "    bootstrap_medians = np.append(bootstrap_medians, new_median)\n",
    "\n",
    "\n",
    "## 3. and use the middle 95% of the bootstrap medians as our confidence interval\n",
    "\n",
    "left = percentile(2.5, bootstrap_medians)\n",
    "right = percentile(97.5, bootstrap_medians)\n",
    "\n",
    "Table().with_column('Bootstrap Medians', bootstrap_medians).hist('Bootstrap Medians', bins=med_bins)\n",
    "plots.plot([left, right], [0,0], color=\"gold\",lw=4, zorder=1);\n",
    "plots.scatter(pop_median, 0, color=\"red\", zorder=2);\n",
    "plots.scatter(our_sample_median, 0, color=\"blue\", zorder=2);"
   ]
  },
  {
   "cell_type": "markdown",
   "metadata": {},
   "source": [
    "## Bootstrap Review: Mean Maternal Age"
   ]
  },
  {
   "cell_type": "code",
   "execution_count": 8,
   "metadata": {},
   "outputs": [
    {
     "data": {
      "text/html": [
       "<table border=\"1\" class=\"dataframe\">\n",
       "    <thead>\n",
       "        <tr>\n",
       "            <th>Birth Weight</th> <th>Gestational Days</th> <th>Maternal Age</th> <th>Maternal Height</th> <th>Maternal Pregnancy Weight</th> <th>Maternal Smoker</th>\n",
       "        </tr>\n",
       "    </thead>\n",
       "    <tbody>\n",
       "        <tr>\n",
       "            <td>120         </td> <td>284             </td> <td>27          </td> <td>62             </td> <td>100                      </td> <td>False          </td>\n",
       "        </tr>\n",
       "        <tr>\n",
       "            <td>113         </td> <td>282             </td> <td>33          </td> <td>64             </td> <td>135                      </td> <td>False          </td>\n",
       "        </tr>\n",
       "        <tr>\n",
       "            <td>128         </td> <td>279             </td> <td>28          </td> <td>64             </td> <td>115                      </td> <td>True           </td>\n",
       "        </tr>\n",
       "        <tr>\n",
       "            <td>108         </td> <td>282             </td> <td>23          </td> <td>67             </td> <td>125                      </td> <td>True           </td>\n",
       "        </tr>\n",
       "        <tr>\n",
       "            <td>136         </td> <td>286             </td> <td>25          </td> <td>62             </td> <td>93                       </td> <td>False          </td>\n",
       "        </tr>\n",
       "    </tbody>\n",
       "</table>\n",
       "<p>... (1169 rows omitted)</p>"
      ],
      "text/plain": [
       "<IPython.core.display.HTML object>"
      ]
     },
     "metadata": {},
     "output_type": "display_data"
    }
   ],
   "source": [
    "births = Table.read_table('data/baby.csv')\n",
    "births.show(5)"
   ]
  },
  {
   "cell_type": "code",
   "execution_count": 9,
   "metadata": {},
   "outputs": [
    {
     "data": {
      "image/png": "[encoded data removed]",
      "text/plain": [
       "<Figure size 432x288 with 1 Axes>"
      ]
     },
     "metadata": {},
     "output_type": "display_data"
    }
   ],
   "source": [
    "births.hist('Maternal Age')"
   ]
  },
  {
   "cell_type": "code",
   "execution_count": 10,
   "metadata": {},
   "outputs": [
    {
     "data": {
      "text/plain": [
       "27.228279386712096"
      ]
     },
     "execution_count": 10,
     "metadata": {},
     "output_type": "execute_result"
    }
   ],
   "source": [
    "mean_age = np.mean(births.column('Maternal Age'))\n",
    "mean_age"
   ]
  },
  {
   "cell_type": "code",
   "execution_count": 11,
   "metadata": {},
   "outputs": [],
   "source": [
    "def one_bootstrap_mean():\n",
    "    return np.mean(births.sample().column('Maternal Age'))"
   ]
  },
  {
   "cell_type": "code",
   "execution_count": 12,
   "metadata": {},
   "outputs": [],
   "source": [
    "bootstrap_means = make_array()\n",
    "\n",
    "for i in np.arange(1000):\n",
    "    new_mean = one_bootstrap_mean()\n",
    "    bootstrap_means = np.append(bootstrap_means, new_mean)\n",
    "    \n",
    "left = percentile(2.5, bootstrap_means)\n",
    "right = percentile(97.5, bootstrap_means)"
   ]
  },
  {
   "cell_type": "code",
   "execution_count": 13,
   "metadata": {},
   "outputs": [
    {
     "data": {
      "image/png": "[encoded data removed]",
      "text/plain": [
       "<Figure size 432x288 with 1 Axes>"
      ]
     },
     "metadata": {},
     "output_type": "display_data"
    }
   ],
   "source": [
    "Table().with_column('Bootstrap means', bootstrap_means).hist()\n",
    "plots.plot([left,right], [0,0], color=\"gold\", lw=3, zorder=1);\n",
    "plots.scatter(mean_age,0,color=\"blue\", zorder=2);"
   ]
  },
  {
   "cell_type": "markdown",
   "metadata": {},
   "source": [
    "## Average (Mean) ##"
   ]
  },
  {
   "cell_type": "code",
   "execution_count": 14,
   "metadata": {},
   "outputs": [],
   "source": [
    "values = make_array(2, 3, 3, 9)"
   ]
  },
  {
   "cell_type": "code",
   "execution_count": 15,
   "metadata": {},
   "outputs": [
    {
     "data": {
      "text/plain": [
       "4.25"
      ]
     },
     "execution_count": 15,
     "metadata": {},
     "output_type": "execute_result"
    }
   ],
   "source": [
    "sum(values)/len(values)"
   ]
  },
  {
   "cell_type": "code",
   "execution_count": 16,
   "metadata": {},
   "outputs": [
    {
     "data": {
      "text/plain": [
       "4.25"
      ]
     },
     "execution_count": 16,
     "metadata": {},
     "output_type": "execute_result"
    }
   ],
   "source": [
    "np.average(values)"
   ]
  },
  {
   "cell_type": "code",
   "execution_count": 17,
   "metadata": {},
   "outputs": [
    {
     "data": {
      "text/plain": [
       "4.25"
      ]
     },
     "execution_count": 17,
     "metadata": {},
     "output_type": "execute_result"
    }
   ],
   "source": [
    "np.mean(values)"
   ]
  },
  {
   "cell_type": "code",
   "execution_count": 18,
   "metadata": {},
   "outputs": [
    {
     "data": {
      "text/plain": [
       "4.25"
      ]
     },
     "execution_count": 18,
     "metadata": {},
     "output_type": "execute_result"
    }
   ],
   "source": [
    "(2 + 3 + 3 + 9)/4"
   ]
  },
  {
   "cell_type": "code",
   "execution_count": 19,
   "metadata": {},
   "outputs": [
    {
     "data": {
      "text/plain": [
       "4.25"
      ]
     },
     "execution_count": 19,
     "metadata": {},
     "output_type": "execute_result"
    }
   ],
   "source": [
    "2*(1/4) + 3*(2/4) + 9*(1/4)"
   ]
  },
  {
   "cell_type": "code",
   "execution_count": 20,
   "metadata": {},
   "outputs": [
    {
     "data": {
      "text/html": [
       "<table border=\"1\" class=\"dataframe\">\n",
       "    <thead>\n",
       "        <tr>\n",
       "            <th>value</th>\n",
       "        </tr>\n",
       "    </thead>\n",
       "    <tbody>\n",
       "        <tr>\n",
       "            <td>2    </td>\n",
       "        </tr>\n",
       "        <tr>\n",
       "            <td>3    </td>\n",
       "        </tr>\n",
       "        <tr>\n",
       "            <td>3    </td>\n",
       "        </tr>\n",
       "        <tr>\n",
       "            <td>9    </td>\n",
       "        </tr>\n",
       "    </tbody>\n",
       "</table>"
      ],
      "text/plain": [
       "value\n",
       "2\n",
       "3\n",
       "3\n",
       "9"
      ]
     },
     "execution_count": 20,
     "metadata": {},
     "output_type": "execute_result"
    }
   ],
   "source": [
    "values_table = Table().with_columns('value', values)\n",
    "values_table"
   ]
  },
  {
   "cell_type": "code",
   "execution_count": 21,
   "metadata": {},
   "outputs": [
    {
     "data": {
      "image/png": "[encoded data removed]",
      "text/plain": [
       "<Figure size 432x288 with 1 Axes>"
      ]
     },
     "metadata": {},
     "output_type": "display_data"
    }
   ],
   "source": [
    "bins_for_display = np.arange(0.5, 10.6, 1)\n",
    "values_table.hist(0, bins = bins_for_display)"
   ]
  },
  {
   "cell_type": "code",
   "execution_count": 22,
   "metadata": {},
   "outputs": [],
   "source": [
    "## Make array of 10 2s, 20 3s, and 10 9s\n",
    "\n",
    "new_vals = make_array(2, 2, 2, 2, 2, 2, 2, 2, 2, 2,\n",
    "                      3, 3, 3, 3, 3, 3, 3, 3, 3, 3, 3, 3, 3, 3, 3, 3, 3, 3, 3, 3,\n",
    "                      9, 9, 9, 9, 9, 9, 9, 9, 9, 9)"
   ]
  },
  {
   "cell_type": "code",
   "execution_count": null,
   "metadata": {},
   "outputs": [],
   "source": []
  },
  {
   "cell_type": "code",
   "execution_count": null,
   "metadata": {},
   "outputs": [],
   "source": []
  },
  {
   "cell_type": "code",
   "execution_count": 23,
   "metadata": {},
   "outputs": [
    {
     "data": {
      "image/png": "[encoded data removed]",
      "text/plain": [
       "<Figure size 432x288 with 1 Axes>"
      ]
     },
     "metadata": {},
     "output_type": "display_data"
    }
   ],
   "source": [
    "Table().with_column('value', new_vals).hist(bins = bins_for_display)"
   ]
  },
  {
   "cell_type": "code",
   "execution_count": 24,
   "metadata": {},
   "outputs": [
    {
     "data": {
      "text/plain": [
       "4.25"
      ]
     },
     "execution_count": 24,
     "metadata": {},
     "output_type": "execute_result"
    }
   ],
   "source": [
    "np.average(values)"
   ]
  },
  {
   "cell_type": "code",
   "execution_count": 25,
   "metadata": {},
   "outputs": [
    {
     "data": {
      "text/plain": [
       "4.25"
      ]
     },
     "execution_count": 25,
     "metadata": {},
     "output_type": "execute_result"
    }
   ],
   "source": [
    "np.average(new_vals)"
   ]
  },
  {
   "cell_type": "markdown",
   "metadata": {},
   "source": [
    "### Discussion Question"
   ]
  },
  {
   "cell_type": "code",
   "execution_count": 31,
   "metadata": {},
   "outputs": [
    {
     "data": {
      "text/html": [
       "<table border=\"1\" class=\"dataframe\">\n",
       "    <thead>\n",
       "        <tr>\n",
       "            <th>Name</th> <th>Position</th> <th>Height</th> <th>Weight</th> <th>Age in 2013</th>\n",
       "        </tr>\n",
       "    </thead>\n",
       "    <tbody>\n",
       "        <tr>\n",
       "            <td>Hasheem Thabeet</td> <td>Center  </td> <td>87    </td> <td>263   </td> <td>26         </td>\n",
       "        </tr>\n",
       "        <tr>\n",
       "            <td>Roy Hibbert    </td> <td>Center  </td> <td>86    </td> <td>278   </td> <td>26         </td>\n",
       "        </tr>\n",
       "        <tr>\n",
       "            <td>Alex Len       </td> <td>Center  </td> <td>85    </td> <td>255   </td> <td>20         </td>\n",
       "        </tr>\n",
       "        <tr>\n",
       "            <td>Rudy Gobert    </td> <td>Center  </td> <td>85    </td> <td>235   </td> <td>21         </td>\n",
       "        </tr>\n",
       "        <tr>\n",
       "            <td>Meyers Leonard </td> <td>Center  </td> <td>85    </td> <td>250   </td> <td>21         </td>\n",
       "        </tr>\n",
       "        <tr>\n",
       "            <td>Timofey Mozgov </td> <td>Center  </td> <td>85    </td> <td>250   </td> <td>27         </td>\n",
       "        </tr>\n",
       "        <tr>\n",
       "            <td>Marc Gasol     </td> <td>Center  </td> <td>85    </td> <td>265   </td> <td>28         </td>\n",
       "        </tr>\n",
       "        <tr>\n",
       "            <td>Spencer Hawes  </td> <td>Center  </td> <td>85    </td> <td>245   </td> <td>25         </td>\n",
       "        </tr>\n",
       "        <tr>\n",
       "            <td>Tyson Chandler </td> <td>Center  </td> <td>85    </td> <td>235   </td> <td>30         </td>\n",
       "        </tr>\n",
       "        <tr>\n",
       "            <td>Pau Gasol      </td> <td>Forward </td> <td>84    </td> <td>250   </td> <td>33         </td>\n",
       "        </tr>\n",
       "    </tbody>\n",
       "</table>\n",
       "<p>... (495 rows omitted)</p>"
      ],
      "text/plain": [
       "Name            | Position | Height | Weight | Age in 2013\n",
       "Hasheem Thabeet | Center   | 87     | 263    | 26\n",
       "Roy Hibbert     | Center   | 86     | 278    | 26\n",
       "Alex Len        | Center   | 85     | 255    | 20\n",
       "Rudy Gobert     | Center   | 85     | 235    | 21\n",
       "Meyers Leonard  | Center   | 85     | 250    | 21\n",
       "Timofey Mozgov  | Center   | 85     | 250    | 27\n",
       "Marc Gasol      | Center   | 85     | 265    | 28\n",
       "Spencer Hawes   | Center   | 85     | 245    | 25\n",
       "Tyson Chandler  | Center   | 85     | 235    | 30\n",
       "Pau Gasol       | Forward  | 84     | 250    | 33\n",
       "... (495 rows omitted)"
      ]
     },
     "execution_count": 31,
     "metadata": {},
     "output_type": "execute_result"
    }
   ],
   "source": [
    "nba = Table.read_table('data/nba2013.csv')\n",
    "nba\n",
    "# grab row with shortest player info\n",
    "nba.sort('Height', descending = False)\n",
    "# look at tallest players\n",
    "nba.sort('Height', descending = True)"
   ]
  },
  {
   "cell_type": "code",
   "execution_count": 27,
   "metadata": {},
   "outputs": [
    {
     "data": {
      "image/png": "[encoded data removed]",
      "text/plain": [
       "<Figure size 432x288 with 1 Axes>"
      ]
     },
     "metadata": {},
     "output_type": "display_data"
    }
   ],
   "source": [
    "nba.hist('Height', bins=np.arange(65.5, 90.5))"
   ]
  },
  {
   "cell_type": "code",
   "execution_count": 28,
   "metadata": {},
   "outputs": [
    {
     "data": {
      "text/plain": [
       "80"
      ]
     },
     "execution_count": 28,
     "metadata": {},
     "output_type": "execute_result"
    }
   ],
   "source": [
    "heights = nba.column('Height')\n",
    "percentile(50, heights) # this is median"
   ]
  },
  {
   "cell_type": "code",
   "execution_count": 29,
   "metadata": {},
   "outputs": [
    {
     "data": {
      "text/plain": [
       "79.06534653465347"
      ]
     },
     "execution_count": 29,
     "metadata": {},
     "output_type": "execute_result"
    }
   ],
   "source": [
    "np.average(heights)"
   ]
  },
  {
   "cell_type": "markdown",
   "metadata": {},
   "source": [
    "## Standard Deviation ##"
   ]
  },
  {
   "cell_type": "code",
   "execution_count": 32,
   "metadata": {},
   "outputs": [
    {
     "data": {
      "text/html": [
       "<table border=\"1\" class=\"dataframe\">\n",
       "    <thead>\n",
       "        <tr>\n",
       "            <th>Value</th>\n",
       "        </tr>\n",
       "    </thead>\n",
       "    <tbody>\n",
       "        <tr>\n",
       "            <td>2    </td>\n",
       "        </tr>\n",
       "        <tr>\n",
       "            <td>3    </td>\n",
       "        </tr>\n",
       "        <tr>\n",
       "            <td>3    </td>\n",
       "        </tr>\n",
       "        <tr>\n",
       "            <td>9    </td>\n",
       "        </tr>\n",
       "    </tbody>\n",
       "</table>"
      ],
      "text/plain": [
       "Value\n",
       "2\n",
       "3\n",
       "3\n",
       "9"
      ]
     },
     "execution_count": 32,
     "metadata": {},
     "output_type": "execute_result"
    }
   ],
   "source": [
    "sd_table = Table().with_columns('Value', values)\n",
    "sd_table"
   ]
  },
  {
   "cell_type": "code",
   "execution_count": 33,
   "metadata": {},
   "outputs": [
    {
     "data": {
      "text/plain": [
       "4.25"
      ]
     },
     "execution_count": 33,
     "metadata": {},
     "output_type": "execute_result"
    }
   ],
   "source": [
    "average_value = np.average(sd_table.column(0))\n",
    "average_value"
   ]
  },
  {
   "cell_type": "code",
   "execution_count": 34,
   "metadata": {},
   "outputs": [
    {
     "data": {
      "text/html": [
       "<table border=\"1\" class=\"dataframe\">\n",
       "    <thead>\n",
       "        <tr>\n",
       "            <th>Value</th> <th>Deviation</th>\n",
       "        </tr>\n",
       "    </thead>\n",
       "    <tbody>\n",
       "        <tr>\n",
       "            <td>2    </td> <td>-2.25    </td>\n",
       "        </tr>\n",
       "        <tr>\n",
       "            <td>3    </td> <td>-1.25    </td>\n",
       "        </tr>\n",
       "        <tr>\n",
       "            <td>3    </td> <td>-1.25    </td>\n",
       "        </tr>\n",
       "        <tr>\n",
       "            <td>9    </td> <td>4.75     </td>\n",
       "        </tr>\n",
       "    </tbody>\n",
       "</table>"
      ],
      "text/plain": [
       "Value | Deviation\n",
       "2     | -2.25\n",
       "3     | -1.25\n",
       "3     | -1.25\n",
       "9     | 4.75"
      ]
     },
     "execution_count": 34,
     "metadata": {},
     "output_type": "execute_result"
    }
   ],
   "source": [
    "deviations = values - average_value\n",
    "sd_table = sd_table.with_column('Deviation', deviations)\n",
    "sd_table"
   ]
  },
  {
   "cell_type": "code",
   "execution_count": 35,
   "metadata": {},
   "outputs": [
    {
     "data": {
      "text/plain": [
       "0.0"
      ]
     },
     "execution_count": 35,
     "metadata": {},
     "output_type": "execute_result"
    }
   ],
   "source": [
    "sum(deviations)"
   ]
  },
  {
   "cell_type": "code",
   "execution_count": 36,
   "metadata": {},
   "outputs": [
    {
     "data": {
      "text/html": [
       "<table border=\"1\" class=\"dataframe\">\n",
       "    <thead>\n",
       "        <tr>\n",
       "            <th>Value</th> <th>Deviation</th> <th>Squared Deviation</th>\n",
       "        </tr>\n",
       "    </thead>\n",
       "    <tbody>\n",
       "        <tr>\n",
       "            <td>2    </td> <td>-2.25    </td> <td>5.0625           </td>\n",
       "        </tr>\n",
       "        <tr>\n",
       "            <td>3    </td> <td>-1.25    </td> <td>1.5625           </td>\n",
       "        </tr>\n",
       "        <tr>\n",
       "            <td>3    </td> <td>-1.25    </td> <td>1.5625           </td>\n",
       "        </tr>\n",
       "        <tr>\n",
       "            <td>9    </td> <td>4.75     </td> <td>22.5625          </td>\n",
       "        </tr>\n",
       "    </tbody>\n",
       "</table>"
      ],
      "text/plain": [
       "Value | Deviation | Squared Deviation\n",
       "2     | -2.25     | 5.0625\n",
       "3     | -1.25     | 1.5625\n",
       "3     | -1.25     | 1.5625\n",
       "9     | 4.75      | 22.5625"
      ]
     },
     "execution_count": 36,
     "metadata": {},
     "output_type": "execute_result"
    }
   ],
   "source": [
    "sd_table = sd_table.with_columns('Squared Deviation', deviations ** 2)\n",
    "sd_table"
   ]
  },
  {
   "cell_type": "code",
   "execution_count": 37,
   "metadata": {},
   "outputs": [
    {
     "data": {
      "text/plain": [
       "7.6875"
      ]
     },
     "execution_count": 37,
     "metadata": {},
     "output_type": "execute_result"
    }
   ],
   "source": [
    "# Variance of the data\n",
    "\n",
    "variance = np.mean(sd_table.column('Squared Deviation'))\n",
    "variance"
   ]
  },
  {
   "cell_type": "code",
   "execution_count": 38,
   "metadata": {},
   "outputs": [
    {
     "data": {
      "text/plain": [
       "2.7726341266023544"
      ]
     },
     "execution_count": 38,
     "metadata": {},
     "output_type": "execute_result"
    }
   ],
   "source": [
    "# Standard Deviation (SD) is the square root of the variance\n",
    "\n",
    "sd = variance ** 0.5\n",
    "sd"
   ]
  },
  {
   "cell_type": "code",
   "execution_count": 39,
   "metadata": {},
   "outputs": [
    {
     "data": {
      "text/plain": [
       "2.7726341266023544"
      ]
     },
     "execution_count": 39,
     "metadata": {},
     "output_type": "execute_result"
    }
   ],
   "source": [
    "np.std(values)"
   ]
  },
  {
   "cell_type": "code",
   "execution_count": null,
   "metadata": {},
   "outputs": [],
   "source": []
  }
 ],
 "metadata": {
  "anaconda-cloud": {},
  "kernelspec": {
   "display_name": "Python 3",
   "language": "python",
   "name": "python3"
  },
  "language_info": {
   "codemirror_mode": {
    "name": "ipython",
    "version": 3
   },
   "file_extension": ".py",
   "mimetype": "text/x-python",
   "name": "python",
   "nbconvert_exporter": "python",
   "pygments_lexer": "ipython3",
   "version": "3.7.6"
  },
  "toc": {
   "base_numbering": 1,
   "nav_menu": {},
   "number_sections": false,
   "sideBar": true,
   "skip_h1_title": false,
   "title_cell": "Table of Contents",
   "title_sidebar": "Contents",
   "toc_cell": false,
   "toc_position": {},
   "toc_section_display": true,
   "toc_window_display": false
  }
 },
 "nbformat": 4,
 "nbformat_minor": 1
}
