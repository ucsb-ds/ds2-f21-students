{
 "cells": [
  {
   "cell_type": "code",
   "execution_count": 1,
   "metadata": {},
   "outputs": [],
   "source": [
    "# HIDDEN\n",
    "from datascience import *\n",
    "import numpy as np\n",
    "%matplotlib inline\n",
    "import matplotlib.pyplot as plots\n",
    "plots.style.use('fivethirtyeight')"
   ]
  },
  {
   "cell_type": "code",
   "execution_count": 2,
   "metadata": {},
   "outputs": [],
   "source": [
    "def r_scatter(r):\n",
    "    plots.figure(figsize=(5,5))\n",
    "    \"Generate a scatter plot with a correlation approximately r\"\n",
    "    x = np.random.normal(0, 1, 1000)\n",
    "    z = np.random.normal(0, 1, 1000)\n",
    "    y = r*x + (np.sqrt(1-r**2))*z\n",
    "    plots.scatter(x, y, color='darkblue', s=20)\n",
    "    plots.xlim(-4, 4)\n",
    "    plots.ylim(-4, 4)"
   ]
  },
  {
   "cell_type": "markdown",
   "metadata": {},
   "source": [
    "## Prediction ##"
   ]
  },
  {
   "cell_type": "code",
   "execution_count": 4,
   "metadata": {},
   "outputs": [
    {
     "data": {
      "text/html": [
       "<table border=\"1\" class=\"dataframe\">\n",
       "    <thead>\n",
       "        <tr>\n",
       "            <th>family</th> <th>father</th> <th>mother</th> <th>midparentHeight</th> <th>children</th> <th>childNum</th> <th>gender</th> <th>childHeight</th>\n",
       "        </tr>\n",
       "    </thead>\n",
       "    <tbody>\n",
       "        <tr>\n",
       "            <td>1     </td> <td>78.5  </td> <td>67    </td> <td>75.43          </td> <td>4       </td> <td>1       </td> <td>male  </td> <td>73.2       </td>\n",
       "        </tr>\n",
       "        <tr>\n",
       "            <td>1     </td> <td>78.5  </td> <td>67    </td> <td>75.43          </td> <td>4       </td> <td>2       </td> <td>female</td> <td>69.2       </td>\n",
       "        </tr>\n",
       "        <tr>\n",
       "            <td>1     </td> <td>78.5  </td> <td>67    </td> <td>75.43          </td> <td>4       </td> <td>3       </td> <td>female</td> <td>69         </td>\n",
       "        </tr>\n",
       "        <tr>\n",
       "            <td>1     </td> <td>78.5  </td> <td>67    </td> <td>75.43          </td> <td>4       </td> <td>4       </td> <td>female</td> <td>69         </td>\n",
       "        </tr>\n",
       "        <tr>\n",
       "            <td>2     </td> <td>75.5  </td> <td>66.5  </td> <td>73.66          </td> <td>4       </td> <td>1       </td> <td>male  </td> <td>73.5       </td>\n",
       "        </tr>\n",
       "        <tr>\n",
       "            <td>2     </td> <td>75.5  </td> <td>66.5  </td> <td>73.66          </td> <td>4       </td> <td>2       </td> <td>male  </td> <td>72.5       </td>\n",
       "        </tr>\n",
       "        <tr>\n",
       "            <td>2     </td> <td>75.5  </td> <td>66.5  </td> <td>73.66          </td> <td>4       </td> <td>3       </td> <td>female</td> <td>65.5       </td>\n",
       "        </tr>\n",
       "        <tr>\n",
       "            <td>2     </td> <td>75.5  </td> <td>66.5  </td> <td>73.66          </td> <td>4       </td> <td>4       </td> <td>female</td> <td>65.5       </td>\n",
       "        </tr>\n",
       "        <tr>\n",
       "            <td>3     </td> <td>75    </td> <td>64    </td> <td>72.06          </td> <td>2       </td> <td>1       </td> <td>male  </td> <td>71         </td>\n",
       "        </tr>\n",
       "        <tr>\n",
       "            <td>3     </td> <td>75    </td> <td>64    </td> <td>72.06          </td> <td>2       </td> <td>2       </td> <td>female</td> <td>68         </td>\n",
       "        </tr>\n",
       "    </tbody>\n",
       "</table>\n",
       "<p>... (924 rows omitted)</p>"
      ],
      "text/plain": [
       "family | father | mother | midparentHeight | children | childNum | gender | childHeight\n",
       "1      | 78.5   | 67     | 75.43           | 4        | 1        | male   | 73.2\n",
       "1      | 78.5   | 67     | 75.43           | 4        | 2        | female | 69.2\n",
       "1      | 78.5   | 67     | 75.43           | 4        | 3        | female | 69\n",
       "1      | 78.5   | 67     | 75.43           | 4        | 4        | female | 69\n",
       "2      | 75.5   | 66.5   | 73.66           | 4        | 1        | male   | 73.5\n",
       "2      | 75.5   | 66.5   | 73.66           | 4        | 2        | male   | 72.5\n",
       "2      | 75.5   | 66.5   | 73.66           | 4        | 3        | female | 65.5\n",
       "2      | 75.5   | 66.5   | 73.66           | 4        | 4        | female | 65.5\n",
       "3      | 75     | 64     | 72.06           | 2        | 1        | male   | 71\n",
       "3      | 75     | 64     | 72.06           | 2        | 2        | female | 68\n",
       "... (924 rows omitted)"
      ]
     },
     "execution_count": 4,
     "metadata": {},
     "output_type": "execute_result"
    }
   ],
   "source": [
    "galton = Table.read_table('data/galton.csv')\n",
    "galton"
   ]
  },
  {
   "cell_type": "code",
   "execution_count": 5,
   "metadata": {},
   "outputs": [],
   "source": [
    "heights = Table().with_columns(\n",
    "    'MidParent', galton.column('midparentHeight'),\n",
    "    'Child', galton.column('childHeight')\n",
    "    )"
   ]
  },
  {
   "cell_type": "code",
   "execution_count": 6,
   "metadata": {},
   "outputs": [
    {
     "data": {
      "text/html": [
       "<table border=\"1\" class=\"dataframe\">\n",
       "    <thead>\n",
       "        <tr>\n",
       "            <th>MidParent</th> <th>Child</th>\n",
       "        </tr>\n",
       "    </thead>\n",
       "    <tbody>\n",
       "        <tr>\n",
       "            <td>75.43    </td> <td>73.2 </td>\n",
       "        </tr>\n",
       "        <tr>\n",
       "            <td>75.43    </td> <td>69.2 </td>\n",
       "        </tr>\n",
       "        <tr>\n",
       "            <td>75.43    </td> <td>69   </td>\n",
       "        </tr>\n",
       "        <tr>\n",
       "            <td>75.43    </td> <td>69   </td>\n",
       "        </tr>\n",
       "        <tr>\n",
       "            <td>73.66    </td> <td>73.5 </td>\n",
       "        </tr>\n",
       "        <tr>\n",
       "            <td>73.66    </td> <td>72.5 </td>\n",
       "        </tr>\n",
       "        <tr>\n",
       "            <td>73.66    </td> <td>65.5 </td>\n",
       "        </tr>\n",
       "        <tr>\n",
       "            <td>73.66    </td> <td>65.5 </td>\n",
       "        </tr>\n",
       "        <tr>\n",
       "            <td>72.06    </td> <td>71   </td>\n",
       "        </tr>\n",
       "        <tr>\n",
       "            <td>72.06    </td> <td>68   </td>\n",
       "        </tr>\n",
       "    </tbody>\n",
       "</table>\n",
       "<p>... (924 rows omitted)</p>"
      ],
      "text/plain": [
       "MidParent | Child\n",
       "75.43     | 73.2\n",
       "75.43     | 69.2\n",
       "75.43     | 69\n",
       "75.43     | 69\n",
       "73.66     | 73.5\n",
       "73.66     | 72.5\n",
       "73.66     | 65.5\n",
       "73.66     | 65.5\n",
       "72.06     | 71\n",
       "72.06     | 68\n",
       "... (924 rows omitted)"
      ]
     },
     "execution_count": 6,
     "metadata": {},
     "output_type": "execute_result"
    }
   ],
   "source": [
    "heights"
   ]
  },
  {
   "cell_type": "code",
   "execution_count": 7,
   "metadata": {},
   "outputs": [
    {
     "data": {
      "image/png": "[encoded data removed]",
      "text/plain": [
       "<Figure size 360x360 with 1 Axes>"
      ]
     },
     "metadata": {},
     "output_type": "display_data"
    }
   ],
   "source": [
    "heights.scatter('MidParent')"
   ]
  },
  {
   "cell_type": "code",
   "execution_count": 8,
   "metadata": {},
   "outputs": [],
   "source": [
    "def predict_child(h):\n",
    "    \"\"\"Return a prediction of the height of a child \n",
    "    whose parents have a midparent height of h.\n",
    "    \n",
    "    The prediction is the average height of the children \n",
    "    whose midparent height is in the range h plus or minus 0.5 inches.\n",
    "    \"\"\"\n",
    "    \n",
    "    close_points = heights.where('MidParent', are.between(h-0.5, h + 0.5))\n",
    "    return close_points.column('Child').mean()   "
   ]
  },
  {
   "cell_type": "code",
   "execution_count": 11,
   "metadata": {},
   "outputs": [
    {
     "data": {
      "text/html": [
       "<table border=\"1\" class=\"dataframe\">\n",
       "    <thead>\n",
       "        <tr>\n",
       "            <th>MidParent</th> <th>Child</th> <th>Prediction</th>\n",
       "        </tr>\n",
       "    </thead>\n",
       "    <tbody>\n",
       "        <tr>\n",
       "            <td>75.43    </td> <td>73.2 </td> <td>70.1      </td>\n",
       "        </tr>\n",
       "        <tr>\n",
       "            <td>75.43    </td> <td>69.2 </td> <td>70.1      </td>\n",
       "        </tr>\n",
       "        <tr>\n",
       "            <td>75.43    </td> <td>69   </td> <td>70.1      </td>\n",
       "        </tr>\n",
       "        <tr>\n",
       "            <td>75.43    </td> <td>69   </td> <td>70.1      </td>\n",
       "        </tr>\n",
       "        <tr>\n",
       "            <td>73.66    </td> <td>73.5 </td> <td>70.4158   </td>\n",
       "        </tr>\n",
       "        <tr>\n",
       "            <td>73.66    </td> <td>72.5 </td> <td>70.4158   </td>\n",
       "        </tr>\n",
       "        <tr>\n",
       "            <td>73.66    </td> <td>65.5 </td> <td>70.4158   </td>\n",
       "        </tr>\n",
       "        <tr>\n",
       "            <td>73.66    </td> <td>65.5 </td> <td>70.4158   </td>\n",
       "        </tr>\n",
       "        <tr>\n",
       "            <td>72.06    </td> <td>71   </td> <td>68.5025   </td>\n",
       "        </tr>\n",
       "        <tr>\n",
       "            <td>72.06    </td> <td>68   </td> <td>68.5025   </td>\n",
       "        </tr>\n",
       "    </tbody>\n",
       "</table>\n",
       "<p>... (924 rows omitted)</p>"
      ],
      "text/plain": [
       "MidParent | Child | Prediction\n",
       "75.43     | 73.2  | 70.1\n",
       "75.43     | 69.2  | 70.1\n",
       "75.43     | 69    | 70.1\n",
       "75.43     | 69    | 70.1\n",
       "73.66     | 73.5  | 70.4158\n",
       "73.66     | 72.5  | 70.4158\n",
       "73.66     | 65.5  | 70.4158\n",
       "73.66     | 65.5  | 70.4158\n",
       "72.06     | 71    | 68.5025\n",
       "72.06     | 68    | 68.5025\n",
       "... (924 rows omitted)"
      ]
     },
     "execution_count": 11,
     "metadata": {},
     "output_type": "execute_result"
    }
   ],
   "source": [
    "heights_with_predictions = heights.with_column(\n",
    "    'Prediction', heights.apply(predict_child, 'MidParent')\n",
    "    )\n",
    "heights_with_predictions"
   ]
  },
  {
   "cell_type": "code",
   "execution_count": 10,
   "metadata": {},
   "outputs": [
    {
     "data": {
      "image/png": "[encoded data removed]",
      "text/plain": [
       "<Figure size 360x360 with 1 Axes>"
      ]
     },
     "metadata": {},
     "output_type": "display_data"
    }
   ],
   "source": [
    "heights_with_predictions.scatter('MidParent')"
   ]
  },
  {
   "cell_type": "markdown",
   "metadata": {},
   "source": [
    "## Association ##"
   ]
  },
  {
   "cell_type": "code",
   "execution_count": 12,
   "metadata": {},
   "outputs": [],
   "source": [
    "hybrid = Table.read_table('data/hybrid.csv')"
   ]
  },
  {
   "cell_type": "code",
   "execution_count": 40,
   "metadata": {},
   "outputs": [
    {
     "data": {
      "text/html": [
       "<table border=\"1\" class=\"dataframe\">\n",
       "    <thead>\n",
       "        <tr>\n",
       "            <th>vehicle</th> <th>year</th> <th>msrp</th> <th>acceleration</th> <th>mpg</th> <th>class</th>\n",
       "        </tr>\n",
       "    </thead>\n",
       "    <tbody>\n",
       "        <tr>\n",
       "            <td>Prius (1st Gen)      </td> <td>1997</td> <td>24509.7</td> <td>7.46        </td> <td>41.26</td> <td>Compact     </td>\n",
       "        </tr>\n",
       "        <tr>\n",
       "            <td>Tino                 </td> <td>2000</td> <td>35355  </td> <td>8.2         </td> <td>54.1 </td> <td>Compact     </td>\n",
       "        </tr>\n",
       "        <tr>\n",
       "            <td>Prius (2nd Gen)      </td> <td>2000</td> <td>26832.2</td> <td>7.97        </td> <td>45.23</td> <td>Compact     </td>\n",
       "        </tr>\n",
       "        <tr>\n",
       "            <td>Insight              </td> <td>2000</td> <td>18936.4</td> <td>9.52        </td> <td>53   </td> <td>Two Seater  </td>\n",
       "        </tr>\n",
       "        <tr>\n",
       "            <td>Civic (1st Gen)      </td> <td>2001</td> <td>25833.4</td> <td>7.04        </td> <td>47.04</td> <td>Compact     </td>\n",
       "        </tr>\n",
       "        <tr>\n",
       "            <td>Insight              </td> <td>2001</td> <td>19036.7</td> <td>9.52        </td> <td>53   </td> <td>Two Seater  </td>\n",
       "        </tr>\n",
       "        <tr>\n",
       "            <td>Insight              </td> <td>2002</td> <td>19137  </td> <td>9.71        </td> <td>53   </td> <td>Two Seater  </td>\n",
       "        </tr>\n",
       "        <tr>\n",
       "            <td>Alphard              </td> <td>2003</td> <td>38084.8</td> <td>8.33        </td> <td>40.46</td> <td>Minivan     </td>\n",
       "        </tr>\n",
       "        <tr>\n",
       "            <td>Insight              </td> <td>2003</td> <td>19137  </td> <td>9.52        </td> <td>53   </td> <td>Two Seater  </td>\n",
       "        </tr>\n",
       "        <tr>\n",
       "            <td>Civic                </td> <td>2003</td> <td>14071.9</td> <td>8.62        </td> <td>41   </td> <td>Compact     </td>\n",
       "        </tr>\n",
       "        <tr>\n",
       "            <td>Escape               </td> <td>2004</td> <td>36676.1</td> <td>10.32       </td> <td>31.99</td> <td>SUV         </td>\n",
       "        </tr>\n",
       "        <tr>\n",
       "            <td>Insight              </td> <td>2004</td> <td>19237.3</td> <td>9.35        </td> <td>52   </td> <td>Two Seater  </td>\n",
       "        </tr>\n",
       "        <tr>\n",
       "            <td>Prius                </td> <td>2004</td> <td>20355.6</td> <td>9.9         </td> <td>46   </td> <td>Midsize     </td>\n",
       "        </tr>\n",
       "        <tr>\n",
       "            <td>Silverado 15 2WD     </td> <td>2004</td> <td>30089.6</td> <td>9.09        </td> <td>17   </td> <td>Pickup Truck</td>\n",
       "        </tr>\n",
       "        <tr>\n",
       "            <td>Lexus RX400h         </td> <td>2005</td> <td>58521.1</td> <td>12.76       </td> <td>28.23</td> <td>SUV         </td>\n",
       "        </tr>\n",
       "        <tr>\n",
       "            <td>Civic (2nd Gen)      </td> <td>2005</td> <td>26354.4</td> <td>7.63        </td> <td>39.99</td> <td>Compact     </td>\n",
       "        </tr>\n",
       "        <tr>\n",
       "            <td>Highlander           </td> <td>2005</td> <td>29186.2</td> <td>12.76       </td> <td>29.4 </td> <td>SUV         </td>\n",
       "        </tr>\n",
       "        <tr>\n",
       "            <td>Insight              </td> <td>2005</td> <td>19387.8</td> <td>9.71        </td> <td>52   </td> <td>Two Seater  </td>\n",
       "        </tr>\n",
       "        <tr>\n",
       "            <td>Civic                </td> <td>2005</td> <td>18236.3</td> <td>8.26        </td> <td>41   </td> <td>Compact     </td>\n",
       "        </tr>\n",
       "        <tr>\n",
       "            <td>Escape 2WD           </td> <td>2005</td> <td>19322.6</td> <td>9.52        </td> <td>29   </td> <td>SUV         </td>\n",
       "        </tr>\n",
       "        <tr>\n",
       "            <td>Accord               </td> <td>2005</td> <td>16343.7</td> <td>14.93       </td> <td>28   </td> <td>Midsize     </td>\n",
       "        </tr>\n",
       "        <tr>\n",
       "            <td>Silverado 15 2WD     </td> <td>2005</td> <td>32647.3</td> <td>11.11       </td> <td>17   </td> <td>Pickup Truck</td>\n",
       "        </tr>\n",
       "        <tr>\n",
       "            <td>Mercury Mariner      </td> <td>2006</td> <td>34772.4</td> <td>8.98        </td> <td>32.93</td> <td>SUV         </td>\n",
       "        </tr>\n",
       "        <tr>\n",
       "            <td>Camry                </td> <td>2006</td> <td>29853.2</td> <td>11.28       </td> <td>33.64</td> <td>Midsize     </td>\n",
       "        </tr>\n",
       "        <tr>\n",
       "            <td>Lexus GS450h         </td> <td>2006</td> <td>64547.6</td> <td>18.65       </td> <td>33.4 </td> <td>Midsize     </td>\n",
       "        </tr>\n",
       "        <tr>\n",
       "            <td>Estima               </td> <td>2006</td> <td>36012.7</td> <td>9.26        </td> <td>47.04</td> <td>Minivan     </td>\n",
       "        </tr>\n",
       "        <tr>\n",
       "            <td>Altima               </td> <td>2006</td> <td>29524.8</td> <td>13.29       </td> <td>32.93</td> <td>Midsize     </td>\n",
       "        </tr>\n",
       "        <tr>\n",
       "            <td>Chevrolet Tahoe      </td> <td>2007</td> <td>42924.3</td> <td>10.91       </td> <td>22.35</td> <td>SUV         </td>\n",
       "        </tr>\n",
       "        <tr>\n",
       "            <td>Kluger               </td> <td>2007</td> <td>46229.5</td> <td>12.76       </td> <td>25.87</td> <td>SUV         </td>\n",
       "        </tr>\n",
       "        <tr>\n",
       "            <td>Lexus LS600h/hL      </td> <td>2007</td> <td>118544 </td> <td>17.54       </td> <td>21   </td> <td>Midsize     </td>\n",
       "        </tr>\n",
       "        <tr>\n",
       "            <td>Tribute              </td> <td>2007</td> <td>24823.8</td> <td>11.28       </td> <td>31.75</td> <td>SUV         </td>\n",
       "        </tr>\n",
       "        <tr>\n",
       "            <td>GMC Yukon            </td> <td>2007</td> <td>57094.8</td> <td>12.28       </td> <td>21.78</td> <td>SUV         </td>\n",
       "        </tr>\n",
       "        <tr>\n",
       "            <td>Aura                 </td> <td>2007</td> <td>22110.9</td> <td>10.87       </td> <td>27   </td> <td>Midsize     </td>\n",
       "        </tr>\n",
       "        <tr>\n",
       "            <td>Vue                  </td> <td>2007</td> <td>22938.3</td> <td>10.75       </td> <td>26   </td> <td>SUV         </td>\n",
       "        </tr>\n",
       "        <tr>\n",
       "            <td>Silverado 15 2WD     </td> <td>2007</td> <td>34653.2</td> <td>11.49       </td> <td>17   </td> <td>Pickup Truck</td>\n",
       "        </tr>\n",
       "        <tr>\n",
       "            <td>Crown                </td> <td>2008</td> <td>62290.4</td> <td>8.7         </td> <td>37.16</td> <td>Midsize     </td>\n",
       "        </tr>\n",
       "        <tr>\n",
       "            <td>Cadillac Escalade    </td> <td>2008</td> <td>78932.8</td> <td>9.09        </td> <td>22.35</td> <td>SUV         </td>\n",
       "        </tr>\n",
       "        <tr>\n",
       "            <td>F3DM                 </td> <td>2008</td> <td>23744.1</td> <td>9.52        </td> <td>30.11</td> <td>Midsize     </td>\n",
       "        </tr>\n",
       "        <tr>\n",
       "            <td>Altima               </td> <td>2008</td> <td>18675.6</td> <td>13.7        </td> <td>34   </td> <td>Midsize     </td>\n",
       "        </tr>\n",
       "        <tr>\n",
       "            <td>A5 BSG               </td> <td>2009</td> <td>11849.4</td> <td>7.87        </td> <td>35.28</td> <td>Midsize     </td>\n",
       "        </tr>\n",
       "        <tr>\n",
       "            <td>Lexus RX450h         </td> <td>2009</td> <td>46233.4</td> <td>13.47       </td> <td>31.99</td> <td>SUV         </td>\n",
       "        </tr>\n",
       "        <tr>\n",
       "            <td>ML450 Blue HV        </td> <td>2009</td> <td>60519.8</td> <td>12.6        </td> <td>23.99</td> <td>SUV         </td>\n",
       "        </tr>\n",
       "        <tr>\n",
       "            <td>Prius (3rd Gen)      </td> <td>2009</td> <td>24641.2</td> <td>9.6         </td> <td>47.98</td> <td>Compact     </td>\n",
       "        </tr>\n",
       "        <tr>\n",
       "            <td>S400 Long            </td> <td>2009</td> <td>96208.9</td> <td>13.89       </td> <td>26.34</td> <td>Large       </td>\n",
       "        </tr>\n",
       "        <tr>\n",
       "            <td>Mercury Milan        </td> <td>2009</td> <td>30522.6</td> <td>11.55       </td> <td>40.69</td> <td>Midsize     </td>\n",
       "        </tr>\n",
       "        <tr>\n",
       "            <td>Lexus HS250h         </td> <td>2009</td> <td>38478.2</td> <td>11.55       </td> <td>54.1 </td> <td>Compact     </td>\n",
       "        </tr>\n",
       "        <tr>\n",
       "            <td>Avante/Elantra LPI   </td> <td>2009</td> <td>21872.7</td> <td>10.21       </td> <td>41.87</td> <td>Compact     </td>\n",
       "        </tr>\n",
       "        <tr>\n",
       "            <td>ActiveHybrid X6      </td> <td>2009</td> <td>97237.9</td> <td>17.96       </td> <td>18.82</td> <td>SUV         </td>\n",
       "        </tr>\n",
       "        <tr>\n",
       "            <td>SAI                  </td> <td>2009</td> <td>39172.4</td> <td>11.55       </td> <td>54.1 </td> <td>Midsize     </td>\n",
       "        </tr>\n",
       "        <tr>\n",
       "            <td>Malibu               </td> <td>2009</td> <td>24768.8</td> <td>9.09        </td> <td>29   </td> <td>Midsize     </td>\n",
       "        </tr>\n",
       "        <tr>\n",
       "            <td>Vue                  </td> <td>2009</td> <td>26408.7</td> <td>13.7        </td> <td>28   </td> <td>SUV         </td>\n",
       "        </tr>\n",
       "        <tr>\n",
       "            <td>Aspen HEV            </td> <td>2009</td> <td>44903.8</td> <td>13.51       </td> <td>21   </td> <td>SUV         </td>\n",
       "        </tr>\n",
       "        <tr>\n",
       "            <td>Durango              </td> <td>2009</td> <td>41033.2</td> <td>8.33        </td> <td>21   </td> <td>SUV         </td>\n",
       "        </tr>\n",
       "        <tr>\n",
       "            <td>Auris HSD            </td> <td>2010</td> <td>35787.3</td> <td>8.85        </td> <td>68.21</td> <td>Compact     </td>\n",
       "        </tr>\n",
       "        <tr>\n",
       "            <td>CR-Z                 </td> <td>2010</td> <td>21435.5</td> <td>9.24        </td> <td>37   </td> <td>Two Seater  </td>\n",
       "        </tr>\n",
       "        <tr>\n",
       "            <td>F3DM PHEV            </td> <td>2010</td> <td>23124.6</td> <td>9.24        </td> <td>30.15</td> <td>Midsize     </td>\n",
       "        </tr>\n",
       "        <tr>\n",
       "            <td>Touareg              </td> <td>2010</td> <td>64198.9</td> <td>15.38       </td> <td>28.7 </td> <td>SUV         </td>\n",
       "        </tr>\n",
       "        <tr>\n",
       "            <td>Audi Q5              </td> <td>2010</td> <td>37510.9</td> <td>14.08       </td> <td>33.64</td> <td>SUV         </td>\n",
       "        </tr>\n",
       "        <tr>\n",
       "            <td>Jeep Patriot         </td> <td>2010</td> <td>17045.1</td> <td>12.05       </td> <td>29.4 </td> <td>SUV         </td>\n",
       "        </tr>\n",
       "        <tr>\n",
       "            <td>Besturn B50          </td> <td>2010</td> <td>14586.6</td> <td>7.14        </td> <td>31.28</td> <td>Midsize     </td>\n",
       "        </tr>\n",
       "        <tr>\n",
       "            <td>ActiveHybrid 7       </td> <td>2010</td> <td>104300 </td> <td>20.41       </td> <td>22.11</td> <td>Large       </td>\n",
       "        </tr>\n",
       "        <tr>\n",
       "            <td>Lincoln MKZ          </td> <td>2010</td> <td>37036.6</td> <td>11.15       </td> <td>37.63</td> <td>Midsize     </td>\n",
       "        </tr>\n",
       "        <tr>\n",
       "            <td>Fit/Jazz             </td> <td>2010</td> <td>16911.8</td> <td>8.26        </td> <td>30   </td> <td>Compact     </td>\n",
       "        </tr>\n",
       "        <tr>\n",
       "            <td>Sonata               </td> <td>2010</td> <td>28287.7</td> <td>14.7        </td> <td>37   </td> <td>Midsize     </td>\n",
       "        </tr>\n",
       "        <tr>\n",
       "            <td>Cayenne S            </td> <td>2010</td> <td>73183.5</td> <td>14.71       </td> <td>26.11</td> <td>SUV         </td>\n",
       "        </tr>\n",
       "        <tr>\n",
       "            <td>Insight              </td> <td>2010</td> <td>19859.2</td> <td>9.17        </td> <td>41   </td> <td>Compact     </td>\n",
       "        </tr>\n",
       "        <tr>\n",
       "            <td>Fuga Infiniti M35H   </td> <td>2010</td> <td>70157  </td> <td>18.65       </td> <td>33.64</td> <td>Midsize     </td>\n",
       "        </tr>\n",
       "        <tr>\n",
       "            <td>Chevrolet Volt       </td> <td>2010</td> <td>42924.3</td> <td>10.78       </td> <td>35   </td> <td>Compact     </td>\n",
       "        </tr>\n",
       "        <tr>\n",
       "            <td>Tribute 4WD          </td> <td>2010</td> <td>27968.3</td> <td>12.35       </td> <td>29   </td> <td>SUV         </td>\n",
       "        </tr>\n",
       "        <tr>\n",
       "            <td>Fusion FWD           </td> <td>2010</td> <td>28033.5</td> <td>11.49       </td> <td>39   </td> <td>Midsize     </td>\n",
       "        </tr>\n",
       "        <tr>\n",
       "            <td>HS 250h              </td> <td>2010</td> <td>34753.5</td> <td>11.76       </td> <td>35   </td> <td>Compact     </td>\n",
       "        </tr>\n",
       "        <tr>\n",
       "            <td>Mariner FWD          </td> <td>2010</td> <td>30195  </td> <td>11.63       </td> <td>32   </td> <td>SUV         </td>\n",
       "        </tr>\n",
       "        <tr>\n",
       "            <td>RX 450h              </td> <td>2010</td> <td>42812.5</td> <td>13.89       </td> <td>30   </td> <td>SUV         </td>\n",
       "        </tr>\n",
       "        <tr>\n",
       "            <td>ML450 4natic         </td> <td>2010</td> <td>55164.3</td> <td>12.99       </td> <td>22   </td> <td>SUV         </td>\n",
       "        </tr>\n",
       "        <tr>\n",
       "            <td>Silverado 15 2WD     </td> <td>2010</td> <td>38454.6</td> <td>11.76       </td> <td>22   </td> <td>Pickup Truck</td>\n",
       "        </tr>\n",
       "        <tr>\n",
       "            <td>S400                 </td> <td>2010</td> <td>88212.8</td> <td>12.99       </td> <td>21   </td> <td>Large       </td>\n",
       "        </tr>\n",
       "        <tr>\n",
       "            <td>Aqua                 </td> <td>2011</td> <td>22850.9</td> <td>9.35        </td> <td>50   </td> <td>Compact     </td>\n",
       "        </tr>\n",
       "        <tr>\n",
       "            <td>Lexus CT200h         </td> <td>2011</td> <td>30082.2</td> <td>9.71        </td> <td>42   </td> <td>Compact     </td>\n",
       "        </tr>\n",
       "        <tr>\n",
       "            <td>Civic (3rd Gen)      </td> <td>2011</td> <td>24999.6</td> <td>9.6         </td> <td>44.36</td> <td>Compact     </td>\n",
       "        </tr>\n",
       "        <tr>\n",
       "            <td>Prius alpha (V)      </td> <td>2011</td> <td>30588.3</td> <td>10          </td> <td>72.92</td> <td>Midsize     </td>\n",
       "        </tr>\n",
       "        <tr>\n",
       "            <td>3008                 </td> <td>2011</td> <td>45101.5</td> <td>11.36       </td> <td>61.16</td> <td>Compact     </td>\n",
       "        </tr>\n",
       "        <tr>\n",
       "            <td>Fit Shuttle          </td> <td>2011</td> <td>16394.4</td> <td>7.52        </td> <td>58.8 </td> <td>Minivan     </td>\n",
       "        </tr>\n",
       "        <tr>\n",
       "            <td>Buick Regal          </td> <td>2011</td> <td>27948.9</td> <td>12.05       </td> <td>25.99</td> <td>Midsize     </td>\n",
       "        </tr>\n",
       "        <tr>\n",
       "            <td>Prius V              </td> <td>2011</td> <td>27272.3</td> <td>9.51        </td> <td>32.93</td> <td>Midsize     </td>\n",
       "        </tr>\n",
       "        <tr>\n",
       "            <td>Freed/Freed Spike    </td> <td>2011</td> <td>27972.1</td> <td>6.29        </td> <td>50.81</td> <td>Minivan     </td>\n",
       "        </tr>\n",
       "        <tr>\n",
       "            <td>Optima K5            </td> <td>2011</td> <td>26549.2</td> <td>10.54       </td> <td>36   </td> <td>Midsize     </td>\n",
       "        </tr>\n",
       "        <tr>\n",
       "            <td>Escape FWD           </td> <td>2011</td> <td>30661.3</td> <td>12.35       </td> <td>32   </td> <td>SUV         </td>\n",
       "        </tr>\n",
       "        <tr>\n",
       "            <td>Insight              </td> <td>2011</td> <td>18254.4</td> <td>9.52        </td> <td>41   </td> <td>Compact     </td>\n",
       "        </tr>\n",
       "        <tr>\n",
       "            <td>MKZ FWD              </td> <td>2011</td> <td>34748.5</td> <td>11.49       </td> <td>39   </td> <td>Midsize     </td>\n",
       "        </tr>\n",
       "        <tr>\n",
       "            <td>CR-Z                 </td> <td>2011</td> <td>19402.8</td> <td>12.2        </td> <td>37   </td> <td>Two Seater  </td>\n",
       "        </tr>\n",
       "        <tr>\n",
       "            <td>Sonata               </td> <td>2011</td> <td>25872.1</td> <td>11.9        </td> <td>36   </td> <td>Midsize     </td>\n",
       "        </tr>\n",
       "        <tr>\n",
       "            <td>Camry                </td> <td>2011</td> <td>27130.8</td> <td>13.89       </td> <td>33   </td> <td>Midsize     </td>\n",
       "        </tr>\n",
       "        <tr>\n",
       "            <td>Tribute 2WD          </td> <td>2011</td> <td>26213.1</td> <td>12.5        </td> <td>32   </td> <td>SUV         </td>\n",
       "        </tr>\n",
       "        <tr>\n",
       "            <td>Cayenne S            </td> <td>2011</td> <td>67902.3</td> <td>18.52       </td> <td>21   </td> <td>SUV         </td>\n",
       "        </tr>\n",
       "        <tr>\n",
       "            <td>Touareg              </td> <td>2011</td> <td>50149.4</td> <td>16.13       </td> <td>21   </td> <td>SUV         </td>\n",
       "        </tr>\n",
       "        <tr>\n",
       "            <td>ActiveHybrid 7i      </td> <td>2011</td> <td>102606 </td> <td>18.18       </td> <td>20   </td> <td>Midsize     </td>\n",
       "        </tr>\n",
       "        <tr>\n",
       "            <td>Prius C              </td> <td>2012</td> <td>19006.6</td> <td>9.35        </td> <td>50   </td> <td>Compact     </td>\n",
       "        </tr>\n",
       "        <tr>\n",
       "            <td>Prius PHV            </td> <td>2012</td> <td>32095.6</td> <td>8.82        </td> <td>50   </td> <td>Midsize     </td>\n",
       "        </tr>\n",
       "        <tr>\n",
       "            <td>Ampera               </td> <td>2012</td> <td>31739.5</td> <td>11.11       </td> <td>37   </td> <td>Compact     </td>\n",
       "        </tr>\n",
       "        <tr>\n",
       "            <td>ActiveHybrid 5       </td> <td>2012</td> <td>62180.2</td> <td>16.67       </td> <td>26   </td> <td>Midsize     </td>\n",
       "        </tr>\n",
       "        <tr>\n",
       "            <td>Lexus GS450h         </td> <td>2012</td> <td>59126.1</td> <td>16.95       </td> <td>31   </td> <td>Midsize     </td>\n",
       "        </tr>\n",
       "        <tr>\n",
       "            <td>Insight              </td> <td>2012</td> <td>18555.3</td> <td>9.42        </td> <td>42   </td> <td>Compact     </td>\n",
       "        </tr>\n",
       "        <tr>\n",
       "            <td>Chevrolet Volt       </td> <td>2012</td> <td>39262  </td> <td>11.11       </td> <td>37   </td> <td>Compact     </td>\n",
       "        </tr>\n",
       "        <tr>\n",
       "            <td>Camry LE             </td> <td>2012</td> <td>26067.7</td> <td>13.16       </td> <td>41   </td> <td>Midsize     </td>\n",
       "        </tr>\n",
       "        <tr>\n",
       "            <td>MKZ FWD              </td> <td>2012</td> <td>34858.8</td> <td>11.49       </td> <td>39   </td> <td>Midsize     </td>\n",
       "        </tr>\n",
       "        <tr>\n",
       "            <td>M35h                 </td> <td>2012</td> <td>53860.4</td> <td>19.23       </td> <td>29   </td> <td>Midsize     </td>\n",
       "        </tr>\n",
       "        <tr>\n",
       "            <td>LaCrosse             </td> <td>2012</td> <td>30049.5</td> <td>11.36       </td> <td>29   </td> <td>Midsize     </td>\n",
       "        </tr>\n",
       "        <tr>\n",
       "            <td>ActiveHybrid 5       </td> <td>2012</td> <td>61132.1</td> <td>17.54       </td> <td>26   </td> <td>Midsize     </td>\n",
       "        </tr>\n",
       "        <tr>\n",
       "            <td>Panamera S           </td> <td>2012</td> <td>95283.9</td> <td>17.54       </td> <td>25   </td> <td>Large       </td>\n",
       "        </tr>\n",
       "        <tr>\n",
       "            <td>Yukon 1500           </td> <td>2012</td> <td>52626.8</td> <td>13.5        </td> <td>21   </td> <td>SUV         </td>\n",
       "        </tr>\n",
       "        <tr>\n",
       "            <td>Prius C              </td> <td>2013</td> <td>19080  </td> <td>8.7         </td> <td>50   </td> <td>Compact     </td>\n",
       "        </tr>\n",
       "        <tr>\n",
       "            <td>Jetta                </td> <td>2013</td> <td>24995  </td> <td>12.66       </td> <td>45   </td> <td>Compact     </td>\n",
       "        </tr>\n",
       "        <tr>\n",
       "            <td>Civic                </td> <td>2013</td> <td>24360  </td> <td>10.2        </td> <td>44   </td> <td>Compact     </td>\n",
       "        </tr>\n",
       "        <tr>\n",
       "            <td>Prius                </td> <td>2013</td> <td>24200  </td> <td>10.2        </td> <td>50   </td> <td>Midsize     </td>\n",
       "        </tr>\n",
       "        <tr>\n",
       "            <td>Fusion FWD           </td> <td>2013</td> <td>27200  </td> <td>11.72       </td> <td>47   </td> <td>Midsize     </td>\n",
       "        </tr>\n",
       "        <tr>\n",
       "            <td>C-Max FWD            </td> <td>2013</td> <td>25200  </td> <td>12.35       </td> <td>43   </td> <td>Large       </td>\n",
       "        </tr>\n",
       "        <tr>\n",
       "            <td>Insight              </td> <td>2013</td> <td>18600  </td> <td>11.76       </td> <td>42   </td> <td>Compact     </td>\n",
       "        </tr>\n",
       "        <tr>\n",
       "            <td>Camry LE             </td> <td>2013</td> <td>26140  </td> <td>13.51       </td> <td>41   </td> <td>Midsize     </td>\n",
       "        </tr>\n",
       "        <tr>\n",
       "            <td>Camry LXLE           </td> <td>2013</td> <td>27670  </td> <td>13.33       </td> <td>40   </td> <td>Midsize     </td>\n",
       "        </tr>\n",
       "        <tr>\n",
       "            <td>Sonata               </td> <td>2013</td> <td>25650  </td> <td>11.76       </td> <td>38   </td> <td>Midsize     </td>\n",
       "        </tr>\n",
       "        <tr>\n",
       "            <td>Optima               </td> <td>2013</td> <td>25900  </td> <td>11.63       </td> <td>38   </td> <td>Midsize     </td>\n",
       "        </tr>\n",
       "        <tr>\n",
       "            <td>Sonata Limited       </td> <td>2013</td> <td>30550  </td> <td>11.76       </td> <td>37   </td> <td>Midsize     </td>\n",
       "        </tr>\n",
       "        <tr>\n",
       "            <td>Optima EX            </td> <td>2013</td> <td>31950  </td> <td>11.36       </td> <td>37   </td> <td>Midsize     </td>\n",
       "        </tr>\n",
       "        <tr>\n",
       "            <td>Malibu               </td> <td>2013</td> <td>24985  </td> <td>11.49       </td> <td>29   </td> <td>Midsize     </td>\n",
       "        </tr>\n",
       "        <tr>\n",
       "            <td>LaCrosse             </td> <td>2013</td> <td>31660  </td> <td>11.36       </td> <td>29   </td> <td>Midsize     </td>\n",
       "        </tr>\n",
       "        <tr>\n",
       "            <td>Regal                </td> <td>2013</td> <td>29015  </td> <td>12.2        </td> <td>29   </td> <td>Midsize     </td>\n",
       "        </tr>\n",
       "        <tr>\n",
       "            <td>RX 450h              </td> <td>2013</td> <td>46310  </td> <td>12.99       </td> <td>30   </td> <td>SUV         </td>\n",
       "        </tr>\n",
       "        <tr>\n",
       "            <td>Highlander 4WD       </td> <td>2013</td> <td>40170  </td> <td>13.89       </td> <td>28   </td> <td>SUV         </td>\n",
       "        </tr>\n",
       "        <tr>\n",
       "            <td>Q5                   </td> <td>2013</td> <td>50900  </td> <td>14.71       </td> <td>26   </td> <td>SUV         </td>\n",
       "        </tr>\n",
       "        <tr>\n",
       "            <td>Cayenne S            </td> <td>2013</td> <td>69850  </td> <td>16.39       </td> <td>21   </td> <td>SUV         </td>\n",
       "        </tr>\n",
       "        <tr>\n",
       "            <td>Touareg              </td> <td>2013</td> <td>62575  </td> <td>16.13       </td> <td>21   </td> <td>SUV         </td>\n",
       "        </tr>\n",
       "        <tr>\n",
       "            <td>Escalade 2WD         </td> <td>2013</td> <td>74425  </td> <td>11.63       </td> <td>21   </td> <td>SUV         </td>\n",
       "        </tr>\n",
       "        <tr>\n",
       "            <td>Tahoe 2WD            </td> <td>2013</td> <td>53620  </td> <td>11.9        </td> <td>21   </td> <td>SUV         </td>\n",
       "        </tr>\n",
       "        <tr>\n",
       "            <td>Yukon 1500           </td> <td>2013</td> <td>54145  </td> <td>11.88       </td> <td>21   </td> <td>SUV         </td>\n",
       "        </tr>\n",
       "        <tr>\n",
       "            <td>Yukon 1500           </td> <td>2013</td> <td>61960  </td> <td>13.33       </td> <td>21   </td> <td>SUV         </td>\n",
       "        </tr>\n",
       "        <tr>\n",
       "            <td>MKZ FWD              </td> <td>2013</td> <td>35925  </td> <td>14.03       </td> <td>45   </td> <td>Midsize     </td>\n",
       "        </tr>\n",
       "        <tr>\n",
       "            <td>CT 200h              </td> <td>2013</td> <td>32050  </td> <td>10.31       </td> <td>42   </td> <td>Compact     </td>\n",
       "        </tr>\n",
       "        <tr>\n",
       "            <td>ES 300h              </td> <td>2013</td> <td>39250  </td> <td>12.35       </td> <td>40   </td> <td>Midsize     </td>\n",
       "        </tr>\n",
       "        <tr>\n",
       "            <td>ILX                  </td> <td>2013</td> <td>28900  </td> <td>9.26        </td> <td>38   </td> <td>Compact     </td>\n",
       "        </tr>\n",
       "        <tr>\n",
       "            <td>ActiveHybrid 3       </td> <td>2013</td> <td>49650  </td> <td>14.93       </td> <td>28   </td> <td>Compact     </td>\n",
       "        </tr>\n",
       "        <tr>\n",
       "            <td>Silverado 15 2WD     </td> <td>2013</td> <td>41135  </td> <td>12.35       </td> <td>21   </td> <td>Pickup Truck</td>\n",
       "        </tr>\n",
       "        <tr>\n",
       "            <td>Sierra 15 2WD        </td> <td>2013</td> <td>41555  </td> <td>10          </td> <td>21   </td> <td>Pickup Truck</td>\n",
       "        </tr>\n",
       "        <tr>\n",
       "            <td>GS 450h              </td> <td>2013</td> <td>59450  </td> <td>16.67       </td> <td>31   </td> <td>Midsize     </td>\n",
       "        </tr>\n",
       "        <tr>\n",
       "            <td>M35h                 </td> <td>2013</td> <td>54750  </td> <td>19.61       </td> <td>29   </td> <td>Midsize     </td>\n",
       "        </tr>\n",
       "        <tr>\n",
       "            <td>E400                 </td> <td>2013</td> <td>55800  </td> <td>14.93       </td> <td>26   </td> <td>Midsize     </td>\n",
       "        </tr>\n",
       "        <tr>\n",
       "            <td>ActiveHybrid 5       </td> <td>2013</td> <td>61400  </td> <td>12.99       </td> <td>26   </td> <td>Midsize     </td>\n",
       "        </tr>\n",
       "        <tr>\n",
       "            <td>ActiveHybrid 7L      </td> <td>2013</td> <td>84300  </td> <td>18.18       </td> <td>25   </td> <td>Large       </td>\n",
       "        </tr>\n",
       "        <tr>\n",
       "            <td>Panamera S           </td> <td>2013</td> <td>96150  </td> <td>18.52       </td> <td>25   </td> <td>Large       </td>\n",
       "        </tr>\n",
       "        <tr>\n",
       "            <td>S400                 </td> <td>2013</td> <td>92350  </td> <td>13.89       </td> <td>21   </td> <td>Large       </td>\n",
       "        </tr>\n",
       "        <tr>\n",
       "            <td>Prius Plug-in        </td> <td>2013</td> <td>32000  </td> <td>9.17        </td> <td>50   </td> <td>Midsize     </td>\n",
       "        </tr>\n",
       "        <tr>\n",
       "            <td>C-Max Energi Plug-in </td> <td>2013</td> <td>32950  </td> <td>11.76       </td> <td>43   </td> <td>Midsize     </td>\n",
       "        </tr>\n",
       "        <tr>\n",
       "            <td>Fusion Energi Plug-in</td> <td>2013</td> <td>38700  </td> <td>11.76       </td> <td>43   </td> <td>Midsize     </td>\n",
       "        </tr>\n",
       "        <tr>\n",
       "            <td>Chevrolet Volt       </td> <td>2013</td> <td>39145  </td> <td>11.11       </td> <td>37   </td> <td>Compact     </td>\n",
       "        </tr>\n",
       "    </tbody>\n",
       "</table>"
      ],
      "text/plain": [
       "<IPython.core.display.HTML object>"
      ]
     },
     "metadata": {},
     "output_type": "display_data"
    }
   ],
   "source": [
    "hybrid.show()"
   ]
  },
  {
   "cell_type": "code",
   "execution_count": 14,
   "metadata": {},
   "outputs": [
    {
     "data": {
      "text/html": [
       "<table border=\"1\" class=\"dataframe\">\n",
       "    <thead>\n",
       "        <tr>\n",
       "            <th>vehicle</th> <th>year</th> <th>msrp</th> <th>acceleration</th> <th>mpg</th> <th>class</th>\n",
       "        </tr>\n",
       "    </thead>\n",
       "    <tbody>\n",
       "        <tr>\n",
       "            <td>Lexus LS600h/hL</td> <td>2007</td> <td>118544 </td> <td>17.54       </td> <td>21   </td> <td>Midsize</td>\n",
       "        </tr>\n",
       "        <tr>\n",
       "            <td>ActiveHybrid 7 </td> <td>2010</td> <td>104300 </td> <td>20.41       </td> <td>22.11</td> <td>Large  </td>\n",
       "        </tr>\n",
       "        <tr>\n",
       "            <td>ActiveHybrid 7i</td> <td>2011</td> <td>102606 </td> <td>18.18       </td> <td>20   </td> <td>Midsize</td>\n",
       "        </tr>\n",
       "        <tr>\n",
       "            <td>ActiveHybrid X6</td> <td>2009</td> <td>97237.9</td> <td>17.96       </td> <td>18.82</td> <td>SUV    </td>\n",
       "        </tr>\n",
       "        <tr>\n",
       "            <td>S400 Long      </td> <td>2009</td> <td>96208.9</td> <td>13.89       </td> <td>26.34</td> <td>Large  </td>\n",
       "        </tr>\n",
       "        <tr>\n",
       "            <td>Panamera S     </td> <td>2013</td> <td>96150  </td> <td>18.52       </td> <td>25   </td> <td>Large  </td>\n",
       "        </tr>\n",
       "        <tr>\n",
       "            <td>Panamera S     </td> <td>2012</td> <td>95283.9</td> <td>17.54       </td> <td>25   </td> <td>Large  </td>\n",
       "        </tr>\n",
       "        <tr>\n",
       "            <td>S400           </td> <td>2013</td> <td>92350  </td> <td>13.89       </td> <td>21   </td> <td>Large  </td>\n",
       "        </tr>\n",
       "        <tr>\n",
       "            <td>S400           </td> <td>2010</td> <td>88212.8</td> <td>12.99       </td> <td>21   </td> <td>Large  </td>\n",
       "        </tr>\n",
       "        <tr>\n",
       "            <td>ActiveHybrid 7L</td> <td>2013</td> <td>84300  </td> <td>18.18       </td> <td>25   </td> <td>Large  </td>\n",
       "        </tr>\n",
       "    </tbody>\n",
       "</table>\n",
       "<p>... (143 rows omitted)</p>"
      ],
      "text/plain": [
       "vehicle         | year | msrp    | acceleration | mpg   | class\n",
       "Lexus LS600h/hL | 2007 | 118544  | 17.54        | 21    | Midsize\n",
       "ActiveHybrid 7  | 2010 | 104300  | 20.41        | 22.11 | Large\n",
       "ActiveHybrid 7i | 2011 | 102606  | 18.18        | 20    | Midsize\n",
       "ActiveHybrid X6 | 2009 | 97237.9 | 17.96        | 18.82 | SUV\n",
       "S400 Long       | 2009 | 96208.9 | 13.89        | 26.34 | Large\n",
       "Panamera S      | 2013 | 96150   | 18.52        | 25    | Large\n",
       "Panamera S      | 2012 | 95283.9 | 17.54        | 25    | Large\n",
       "S400            | 2013 | 92350   | 13.89        | 21    | Large\n",
       "S400            | 2010 | 88212.8 | 12.99        | 21    | Large\n",
       "ActiveHybrid 7L | 2013 | 84300   | 18.18        | 25    | Large\n",
       "... (143 rows omitted)"
      ]
     },
     "execution_count": 14,
     "metadata": {},
     "output_type": "execute_result"
    }
   ],
   "source": [
    "hybrid.sort('msrp', descending=True)"
   ]
  },
  {
   "cell_type": "code",
   "execution_count": 15,
   "metadata": {},
   "outputs": [
    {
     "data": {
      "text/html": [
       "<table border=\"1\" class=\"dataframe\">\n",
       "    <thead>\n",
       "        <tr>\n",
       "            <th>vehicle</th> <th>year</th> <th>msrp</th> <th>acceleration</th> <th>mpg</th> <th>class</th>\n",
       "        </tr>\n",
       "    </thead>\n",
       "    <tbody>\n",
       "        <tr>\n",
       "            <td>Prius alpha (V)</td> <td>2011</td> <td>30588.3</td> <td>10          </td> <td>72.92</td> <td>Midsize   </td>\n",
       "        </tr>\n",
       "        <tr>\n",
       "            <td>Auris HSD      </td> <td>2010</td> <td>35787.3</td> <td>8.85        </td> <td>68.21</td> <td>Compact   </td>\n",
       "        </tr>\n",
       "        <tr>\n",
       "            <td>3008           </td> <td>2011</td> <td>45101.5</td> <td>11.36       </td> <td>61.16</td> <td>Compact   </td>\n",
       "        </tr>\n",
       "        <tr>\n",
       "            <td>Fit Shuttle    </td> <td>2011</td> <td>16394.4</td> <td>7.52        </td> <td>58.8 </td> <td>Minivan   </td>\n",
       "        </tr>\n",
       "        <tr>\n",
       "            <td>Tino           </td> <td>2000</td> <td>35355  </td> <td>8.2         </td> <td>54.1 </td> <td>Compact   </td>\n",
       "        </tr>\n",
       "        <tr>\n",
       "            <td>Lexus HS250h   </td> <td>2009</td> <td>38478.2</td> <td>11.55       </td> <td>54.1 </td> <td>Compact   </td>\n",
       "        </tr>\n",
       "        <tr>\n",
       "            <td>SAI            </td> <td>2009</td> <td>39172.4</td> <td>11.55       </td> <td>54.1 </td> <td>Midsize   </td>\n",
       "        </tr>\n",
       "        <tr>\n",
       "            <td>Insight        </td> <td>2000</td> <td>18936.4</td> <td>9.52        </td> <td>53   </td> <td>Two Seater</td>\n",
       "        </tr>\n",
       "        <tr>\n",
       "            <td>Insight        </td> <td>2001</td> <td>19036.7</td> <td>9.52        </td> <td>53   </td> <td>Two Seater</td>\n",
       "        </tr>\n",
       "        <tr>\n",
       "            <td>Insight        </td> <td>2002</td> <td>19137  </td> <td>9.71        </td> <td>53   </td> <td>Two Seater</td>\n",
       "        </tr>\n",
       "    </tbody>\n",
       "</table>\n",
       "<p>... (143 rows omitted)</p>"
      ],
      "text/plain": [
       "vehicle         | year | msrp    | acceleration | mpg   | class\n",
       "Prius alpha (V) | 2011 | 30588.3 | 10           | 72.92 | Midsize\n",
       "Auris HSD       | 2010 | 35787.3 | 8.85         | 68.21 | Compact\n",
       "3008            | 2011 | 45101.5 | 11.36        | 61.16 | Compact\n",
       "Fit Shuttle     | 2011 | 16394.4 | 7.52         | 58.8  | Minivan\n",
       "Tino            | 2000 | 35355   | 8.2          | 54.1  | Compact\n",
       "Lexus HS250h    | 2009 | 38478.2 | 11.55        | 54.1  | Compact\n",
       "SAI             | 2009 | 39172.4 | 11.55        | 54.1  | Midsize\n",
       "Insight         | 2000 | 18936.4 | 9.52         | 53    | Two Seater\n",
       "Insight         | 2001 | 19036.7 | 9.52         | 53    | Two Seater\n",
       "Insight         | 2002 | 19137   | 9.71         | 53    | Two Seater\n",
       "... (143 rows omitted)"
      ]
     },
     "execution_count": 15,
     "metadata": {},
     "output_type": "execute_result"
    }
   ],
   "source": [
    "hybrid.sort('mpg', descending=True)"
   ]
  },
  {
   "cell_type": "code",
   "execution_count": 16,
   "metadata": {},
   "outputs": [
    {
     "data": {
      "image/png": "[encoded data removed]",
      "text/plain": [
       "<Figure size 360x360 with 1 Axes>"
      ]
     },
     "metadata": {},
     "output_type": "display_data"
    }
   ],
   "source": [
    "hybrid.scatter('mpg', 'msrp')"
   ]
  },
  {
   "cell_type": "code",
   "execution_count": 41,
   "metadata": {},
   "outputs": [
    {
     "data": {
      "image/png": "[encoded data removed]",
      "text/plain": [
       "<Figure size 360x360 with 1 Axes>"
      ]
     },
     "metadata": {},
     "output_type": "display_data"
    }
   ],
   "source": [
    "hybrid.scatter('acceleration', 'mpg')\n",
    "\n",
    "# what is the trend you see? (negative/positive)\n",
    "# what is the pattern? (shape, linearity)"
   ]
  },
  {
   "cell_type": "code",
   "execution_count": 21,
   "metadata": {},
   "outputs": [
    {
     "data": {
      "text/html": [
       "<table border=\"1\" class=\"dataframe\">\n",
       "    <thead>\n",
       "        <tr>\n",
       "            <th>vehicle</th> <th>year</th> <th>msrp</th> <th>acceleration</th> <th>mpg</th> <th>class</th>\n",
       "        </tr>\n",
       "    </thead>\n",
       "    <tbody>\n",
       "        <tr>\n",
       "            <td>Escape         </td> <td>2004</td> <td>36676.1</td> <td>10.32       </td> <td>31.99</td> <td>SUV  </td>\n",
       "        </tr>\n",
       "        <tr>\n",
       "            <td>Lexus RX400h   </td> <td>2005</td> <td>58521.1</td> <td>12.76       </td> <td>28.23</td> <td>SUV  </td>\n",
       "        </tr>\n",
       "        <tr>\n",
       "            <td>Highlander     </td> <td>2005</td> <td>29186.2</td> <td>12.76       </td> <td>29.4 </td> <td>SUV  </td>\n",
       "        </tr>\n",
       "        <tr>\n",
       "            <td>Escape 2WD     </td> <td>2005</td> <td>19322.6</td> <td>9.52        </td> <td>29   </td> <td>SUV  </td>\n",
       "        </tr>\n",
       "        <tr>\n",
       "            <td>Mercury Mariner</td> <td>2006</td> <td>34772.4</td> <td>8.98        </td> <td>32.93</td> <td>SUV  </td>\n",
       "        </tr>\n",
       "        <tr>\n",
       "            <td>Chevrolet Tahoe</td> <td>2007</td> <td>42924.3</td> <td>10.91       </td> <td>22.35</td> <td>SUV  </td>\n",
       "        </tr>\n",
       "        <tr>\n",
       "            <td>Kluger         </td> <td>2007</td> <td>46229.5</td> <td>12.76       </td> <td>25.87</td> <td>SUV  </td>\n",
       "        </tr>\n",
       "        <tr>\n",
       "            <td>Tribute        </td> <td>2007</td> <td>24823.8</td> <td>11.28       </td> <td>31.75</td> <td>SUV  </td>\n",
       "        </tr>\n",
       "        <tr>\n",
       "            <td>GMC Yukon      </td> <td>2007</td> <td>57094.8</td> <td>12.28       </td> <td>21.78</td> <td>SUV  </td>\n",
       "        </tr>\n",
       "        <tr>\n",
       "            <td>Vue            </td> <td>2007</td> <td>22938.3</td> <td>10.75       </td> <td>26   </td> <td>SUV  </td>\n",
       "        </tr>\n",
       "    </tbody>\n",
       "</table>\n",
       "<p>... (29 rows omitted)</p>"
      ],
      "text/plain": [
       "vehicle         | year | msrp    | acceleration | mpg   | class\n",
       "Escape          | 2004 | 36676.1 | 10.32        | 31.99 | SUV\n",
       "Lexus RX400h    | 2005 | 58521.1 | 12.76        | 28.23 | SUV\n",
       "Highlander      | 2005 | 29186.2 | 12.76        | 29.4  | SUV\n",
       "Escape 2WD      | 2005 | 19322.6 | 9.52         | 29    | SUV\n",
       "Mercury Mariner | 2006 | 34772.4 | 8.98         | 32.93 | SUV\n",
       "Chevrolet Tahoe | 2007 | 42924.3 | 10.91        | 22.35 | SUV\n",
       "Kluger          | 2007 | 46229.5 | 12.76        | 25.87 | SUV\n",
       "Tribute         | 2007 | 24823.8 | 11.28        | 31.75 | SUV\n",
       "GMC Yukon       | 2007 | 57094.8 | 12.28        | 21.78 | SUV\n",
       "Vue             | 2007 | 22938.3 | 10.75        | 26    | SUV\n",
       "... (29 rows omitted)"
      ]
     },
     "execution_count": 21,
     "metadata": {},
     "output_type": "execute_result"
    }
   ],
   "source": [
    "suv = hybrid.where('class', 'SUV')\n",
    "#suv.num_rows\n",
    "suv"
   ]
  },
  {
   "cell_type": "code",
   "execution_count": 22,
   "metadata": {},
   "outputs": [
    {
     "data": {
      "image/png": "[encoded data removed]",
      "text/plain": [
       "<Figure size 360x360 with 1 Axes>"
      ]
     },
     "metadata": {},
     "output_type": "display_data"
    }
   ],
   "source": [
    "suv.scatter('acceleration', 'msrp')"
   ]
  },
  {
   "cell_type": "code",
   "execution_count": 23,
   "metadata": {},
   "outputs": [
    {
     "data": {
      "image/png": "[encoded data removed]",
      "text/plain": [
       "<Figure size 360x360 with 1 Axes>"
      ]
     },
     "metadata": {},
     "output_type": "display_data"
    }
   ],
   "source": [
    "suv.scatter('mpg', 'msrp')"
   ]
  },
  {
   "cell_type": "code",
   "execution_count": 24,
   "metadata": {},
   "outputs": [],
   "source": [
    "def standard_units(x):\n",
    "    \"Convert any array of numbers to standard units.\"\n",
    "    return (x - np.average(x)) / np.std(x)"
   ]
  },
  {
   "cell_type": "code",
   "execution_count": 25,
   "metadata": {},
   "outputs": [
    {
     "data": {
      "image/png": "[encoded data removed]",
      "text/plain": [
       "<Figure size 360x360 with 1 Axes>"
      ]
     },
     "metadata": {},
     "output_type": "display_data"
    }
   ],
   "source": [
    "Table().with_columns(\n",
    "    'mpg (standard units)',  standard_units(suv.column('mpg')), \n",
    "    'msrp (standard units)', standard_units(suv.column('msrp'))\n",
    ").scatter(0, 1)\n",
    "plots.xlim(-3, 3)\n",
    "plots.ylim(-3, 3);"
   ]
  },
  {
   "cell_type": "code",
   "execution_count": 26,
   "metadata": {},
   "outputs": [
    {
     "data": {
      "image/png": "[encoded data removed]",
      "text/plain": [
       "<Figure size 360x360 with 1 Axes>"
      ]
     },
     "metadata": {},
     "output_type": "display_data"
    }
   ],
   "source": [
    "Table().with_columns(\n",
    "    'acceleration (standard units)', standard_units(suv.column('acceleration')), \n",
    "    'msrp (standard units)',         standard_units(suv.column('msrp'))\n",
    ").scatter(0, 1)\n",
    "plots.xlim(-3, 3)\n",
    "plots.ylim(-3, 3);"
   ]
  },
  {
   "cell_type": "markdown",
   "metadata": {},
   "source": [
    "## Correlation ##"
   ]
  },
  {
   "cell_type": "code",
   "execution_count": 30,
   "metadata": {},
   "outputs": [
    {
     "data": {
      "image/png": "[encoded data removed]",
      "text/plain": [
       "<Figure size 360x360 with 1 Axes>"
      ]
     },
     "metadata": {},
     "output_type": "display_data"
    }
   ],
   "source": [
    "r_scatter(0)"
   ]
  },
  {
   "cell_type": "markdown",
   "metadata": {},
   "source": [
    "## Calculating $r$ ##"
   ]
  },
  {
   "cell_type": "code",
   "execution_count": 31,
   "metadata": {},
   "outputs": [
    {
     "data": {
      "text/html": [
       "<table border=\"1\" class=\"dataframe\">\n",
       "    <thead>\n",
       "        <tr>\n",
       "            <th>x</th> <th>y</th>\n",
       "        </tr>\n",
       "    </thead>\n",
       "    <tbody>\n",
       "        <tr>\n",
       "            <td>1   </td> <td>2   </td>\n",
       "        </tr>\n",
       "        <tr>\n",
       "            <td>2   </td> <td>3   </td>\n",
       "        </tr>\n",
       "        <tr>\n",
       "            <td>3   </td> <td>1   </td>\n",
       "        </tr>\n",
       "        <tr>\n",
       "            <td>4   </td> <td>5   </td>\n",
       "        </tr>\n",
       "        <tr>\n",
       "            <td>5   </td> <td>2   </td>\n",
       "        </tr>\n",
       "        <tr>\n",
       "            <td>6   </td> <td>7   </td>\n",
       "        </tr>\n",
       "    </tbody>\n",
       "</table>"
      ],
      "text/plain": [
       "x    | y\n",
       "1    | 2\n",
       "2    | 3\n",
       "3    | 1\n",
       "4    | 5\n",
       "5    | 2\n",
       "6    | 7"
      ]
     },
     "execution_count": 31,
     "metadata": {},
     "output_type": "execute_result"
    }
   ],
   "source": [
    "x = np.arange(1, 7, 1)\n",
    "y = make_array(2, 3, 1, 5, 2, 7)\n",
    "t = Table().with_columns(\n",
    "        'x', x,\n",
    "        'y', y\n",
    "    )\n",
    "t"
   ]
  },
  {
   "cell_type": "code",
   "execution_count": 32,
   "metadata": {},
   "outputs": [
    {
     "data": {
      "image/png": "[encoded data removed]",
      "text/plain": [
       "<Figure size 360x360 with 1 Axes>"
      ]
     },
     "metadata": {},
     "output_type": "display_data"
    }
   ],
   "source": [
    "t.scatter('x', 'y', s=30, color='red')"
   ]
  },
  {
   "cell_type": "code",
   "execution_count": 33,
   "metadata": {},
   "outputs": [
    {
     "data": {
      "text/html": [
       "<table border=\"1\" class=\"dataframe\">\n",
       "    <thead>\n",
       "        <tr>\n",
       "            <th>x</th> <th>y</th> <th>x (standard units)</th> <th>y (standard units)</th>\n",
       "        </tr>\n",
       "    </thead>\n",
       "    <tbody>\n",
       "        <tr>\n",
       "            <td>1   </td> <td>2   </td> <td>-1.46385          </td> <td>-0.648886         </td>\n",
       "        </tr>\n",
       "        <tr>\n",
       "            <td>2   </td> <td>3   </td> <td>-0.87831          </td> <td>-0.162221         </td>\n",
       "        </tr>\n",
       "        <tr>\n",
       "            <td>3   </td> <td>1   </td> <td>-0.29277          </td> <td>-1.13555          </td>\n",
       "        </tr>\n",
       "        <tr>\n",
       "            <td>4   </td> <td>5   </td> <td>0.29277           </td> <td>0.811107          </td>\n",
       "        </tr>\n",
       "        <tr>\n",
       "            <td>5   </td> <td>2   </td> <td>0.87831           </td> <td>-0.648886         </td>\n",
       "        </tr>\n",
       "        <tr>\n",
       "            <td>6   </td> <td>7   </td> <td>1.46385           </td> <td>1.78444           </td>\n",
       "        </tr>\n",
       "    </tbody>\n",
       "</table>"
      ],
      "text/plain": [
       "x    | y    | x (standard units) | y (standard units)\n",
       "1    | 2    | -1.46385           | -0.648886\n",
       "2    | 3    | -0.87831           | -0.162221\n",
       "3    | 1    | -0.29277           | -1.13555\n",
       "4    | 5    | 0.29277            | 0.811107\n",
       "5    | 2    | 0.87831            | -0.648886\n",
       "6    | 7    | 1.46385            | 1.78444"
      ]
     },
     "execution_count": 33,
     "metadata": {},
     "output_type": "execute_result"
    }
   ],
   "source": [
    "t = t.with_columns(\n",
    "        'x (standard units)', standard_units(x),\n",
    "        'y (standard units)', standard_units(y)\n",
    "    )\n",
    "t"
   ]
  },
  {
   "cell_type": "code",
   "execution_count": 34,
   "metadata": {},
   "outputs": [
    {
     "data": {
      "text/html": [
       "<table border=\"1\" class=\"dataframe\">\n",
       "    <thead>\n",
       "        <tr>\n",
       "            <th>x</th> <th>y</th> <th>x (standard units)</th> <th>y (standard units)</th> <th>product of standard units</th>\n",
       "        </tr>\n",
       "    </thead>\n",
       "    <tbody>\n",
       "        <tr>\n",
       "            <td>1   </td> <td>2   </td> <td>-1.46385          </td> <td>-0.648886         </td> <td>0.949871                 </td>\n",
       "        </tr>\n",
       "        <tr>\n",
       "            <td>2   </td> <td>3   </td> <td>-0.87831          </td> <td>-0.162221         </td> <td>0.142481                 </td>\n",
       "        </tr>\n",
       "        <tr>\n",
       "            <td>3   </td> <td>1   </td> <td>-0.29277          </td> <td>-1.13555          </td> <td>0.332455                 </td>\n",
       "        </tr>\n",
       "        <tr>\n",
       "            <td>4   </td> <td>5   </td> <td>0.29277           </td> <td>0.811107          </td> <td>0.237468                 </td>\n",
       "        </tr>\n",
       "        <tr>\n",
       "            <td>5   </td> <td>2   </td> <td>0.87831           </td> <td>-0.648886         </td> <td>-0.569923                </td>\n",
       "        </tr>\n",
       "        <tr>\n",
       "            <td>6   </td> <td>7   </td> <td>1.46385           </td> <td>1.78444           </td> <td>2.61215                  </td>\n",
       "        </tr>\n",
       "    </tbody>\n",
       "</table>"
      ],
      "text/plain": [
       "x    | y    | x (standard units) | y (standard units) | product of standard units\n",
       "1    | 2    | -1.46385           | -0.648886          | 0.949871\n",
       "2    | 3    | -0.87831           | -0.162221          | 0.142481\n",
       "3    | 1    | -0.29277           | -1.13555           | 0.332455\n",
       "4    | 5    | 0.29277            | 0.811107           | 0.237468\n",
       "5    | 2    | 0.87831            | -0.648886          | -0.569923\n",
       "6    | 7    | 1.46385            | 1.78444            | 2.61215"
      ]
     },
     "execution_count": 34,
     "metadata": {},
     "output_type": "execute_result"
    }
   ],
   "source": [
    "t = t.with_columns('product of standard units', t.column(2) * t.column(3))\n",
    "t"
   ]
  },
  {
   "cell_type": "code",
   "execution_count": 35,
   "metadata": {},
   "outputs": [
    {
     "data": {
      "text/plain": [
       "0.6174163971897709"
      ]
     },
     "execution_count": 35,
     "metadata": {},
     "output_type": "execute_result"
    }
   ],
   "source": [
    "# r is the average of the products of the standard units\n",
    "\n",
    "r = np.average(t.column(2) * t.column(3))\n",
    "r"
   ]
  },
  {
   "cell_type": "code",
   "execution_count": 36,
   "metadata": {},
   "outputs": [],
   "source": [
    "def correlation(t, x, y):\n",
    "    \"\"\"t is a table; x and y are column labels\"\"\"\n",
    "    x_in_standard_units = standard_units(t.column(x))\n",
    "    y_in_standard_units = standard_units(t.column(y))\n",
    "    return np.average(x_in_standard_units * y_in_standard_units)"
   ]
  },
  {
   "cell_type": "code",
   "execution_count": 37,
   "metadata": {},
   "outputs": [
    {
     "data": {
      "text/plain": [
       "0.6174163971897709"
      ]
     },
     "execution_count": 37,
     "metadata": {},
     "output_type": "execute_result"
    }
   ],
   "source": [
    "correlation(t, 'x', 'y')"
   ]
  },
  {
   "cell_type": "code",
   "execution_count": 38,
   "metadata": {},
   "outputs": [
    {
     "data": {
      "text/plain": [
       "-0.6667143635709919"
      ]
     },
     "execution_count": 38,
     "metadata": {},
     "output_type": "execute_result"
    }
   ],
   "source": [
    "correlation(suv, 'mpg', 'msrp')"
   ]
  },
  {
   "cell_type": "code",
   "execution_count": 39,
   "metadata": {},
   "outputs": [
    {
     "data": {
      "text/plain": [
       "0.48699799279959155"
      ]
     },
     "execution_count": 39,
     "metadata": {},
     "output_type": "execute_result"
    }
   ],
   "source": [
    "correlation(suv, 'acceleration', 'msrp')"
   ]
  },
  {
   "cell_type": "code",
   "execution_count": 42,
   "metadata": {},
   "outputs": [
    {
     "data": {
      "text/plain": [
       "-0.5060703843771186"
      ]
     },
     "execution_count": 42,
     "metadata": {},
     "output_type": "execute_result"
    }
   ],
   "source": [
    "correlation(hybrid,'acceleration','mpg')"
   ]
  },
  {
   "cell_type": "markdown",
   "metadata": {},
   "source": [
    "### Switching Axes ###"
   ]
  },
  {
   "cell_type": "code",
   "execution_count": 43,
   "metadata": {},
   "outputs": [
    {
     "data": {
      "text/plain": [
       "0.6174163971897709"
      ]
     },
     "execution_count": 43,
     "metadata": {},
     "output_type": "execute_result"
    }
   ],
   "source": [
    "correlation(t, 'x', 'y')"
   ]
  },
  {
   "cell_type": "code",
   "execution_count": 44,
   "metadata": {},
   "outputs": [
    {
     "data": {
      "image/png": "[encoded data removed]",
      "text/plain": [
       "<Figure size 360x360 with 1 Axes>"
      ]
     },
     "metadata": {},
     "output_type": "display_data"
    }
   ],
   "source": [
    "t.scatter('x', 'y', s=30, color='red')"
   ]
  },
  {
   "cell_type": "code",
   "execution_count": 45,
   "metadata": {},
   "outputs": [
    {
     "data": {
      "image/png": "[encoded data removed]",
      "text/plain": [
       "<Figure size 360x360 with 1 Axes>"
      ]
     },
     "metadata": {},
     "output_type": "display_data"
    }
   ],
   "source": [
    "t.scatter('y', 'x', s=30, color='red')"
   ]
  },
  {
   "cell_type": "code",
   "execution_count": 48,
   "metadata": {},
   "outputs": [
    {
     "data": {
      "text/plain": [
       "0.6174163971897709"
      ]
     },
     "execution_count": 48,
     "metadata": {},
     "output_type": "execute_result"
    }
   ],
   "source": [
    "correlation(t, 'y', 'x')"
   ]
  },
  {
   "cell_type": "markdown",
   "metadata": {},
   "source": [
    "### Nonlinearity ###"
   ]
  },
  {
   "cell_type": "code",
   "execution_count": 51,
   "metadata": {},
   "outputs": [
    {
     "data": {
      "image/png": "[encoded data removed]",
      "text/plain": [
       "<Figure size 360x360 with 1 Axes>"
      ]
     },
     "metadata": {},
     "output_type": "display_data"
    }
   ],
   "source": [
    "new_x = np.arange(-4, 4.1, 0.5)\n",
    "nonlinear = Table().with_columns(\n",
    "        'x', new_x,\n",
    "        'y', new_x**2\n",
    "    )\n",
    "nonlinear.scatter('x', 'y', s=30, color='r')\n",
    "#nonlinear"
   ]
  },
  {
   "cell_type": "code",
   "execution_count": 52,
   "metadata": {},
   "outputs": [
    {
     "data": {
      "text/plain": [
       "0.0"
      ]
     },
     "execution_count": 52,
     "metadata": {},
     "output_type": "execute_result"
    }
   ],
   "source": [
    "correlation(nonlinear, 'x', 'y')"
   ]
  },
  {
   "cell_type": "markdown",
   "metadata": {},
   "source": [
    "### Outliers ###"
   ]
  },
  {
   "cell_type": "code",
   "execution_count": 54,
   "metadata": {},
   "outputs": [
    {
     "data": {
      "text/html": [
       "<table border=\"1\" class=\"dataframe\">\n",
       "    <thead>\n",
       "        <tr>\n",
       "            <th>x</th> <th>y</th>\n",
       "        </tr>\n",
       "    </thead>\n",
       "    <tbody>\n",
       "        <tr>\n",
       "            <td>1   </td> <td>1   </td>\n",
       "        </tr>\n",
       "        <tr>\n",
       "            <td>2   </td> <td>2   </td>\n",
       "        </tr>\n",
       "        <tr>\n",
       "            <td>3   </td> <td>3   </td>\n",
       "        </tr>\n",
       "        <tr>\n",
       "            <td>4   </td> <td>4   </td>\n",
       "        </tr>\n",
       "    </tbody>\n",
       "</table>"
      ],
      "text/plain": [
       "x    | y\n",
       "1    | 1\n",
       "2    | 2\n",
       "3    | 3\n",
       "4    | 4"
      ]
     },
     "execution_count": 54,
     "metadata": {},
     "output_type": "execute_result"
    },
    {
     "data": {
      "image/png": "[encoded data removed]",
      "text/plain": [
       "<Figure size 360x360 with 1 Axes>"
      ]
     },
     "metadata": {},
     "output_type": "display_data"
    }
   ],
   "source": [
    "line = Table().with_columns(\n",
    "        'x', make_array(1, 2, 3, 4),\n",
    "        'y', make_array(1, 2, 3, 4)\n",
    "    )\n",
    "line.scatter('x', 'y', s=30, color='r')\n",
    "line"
   ]
  },
  {
   "cell_type": "code",
   "execution_count": 55,
   "metadata": {},
   "outputs": [
    {
     "data": {
      "text/plain": [
       "1.0"
      ]
     },
     "execution_count": 55,
     "metadata": {},
     "output_type": "execute_result"
    }
   ],
   "source": [
    "correlation(line, 'x', 'y')"
   ]
  },
  {
   "cell_type": "code",
   "execution_count": 56,
   "metadata": {},
   "outputs": [
    {
     "data": {
      "image/png": "[encoded data removed]",
      "text/plain": [
       "<Figure size 360x360 with 1 Axes>"
      ]
     },
     "metadata": {},
     "output_type": "display_data"
    }
   ],
   "source": [
    "outlier = Table().with_columns(\n",
    "        'x', make_array(1, 2, 3, 4, 5),\n",
    "        'y', make_array(1, 2, 3, 4, 0)\n",
    "    )\n",
    "outlier.scatter('x', 'y', s=30, color='r')\n"
   ]
  },
  {
   "cell_type": "code",
   "execution_count": 57,
   "metadata": {},
   "outputs": [
    {
     "data": {
      "text/plain": [
       "0.0"
      ]
     },
     "execution_count": 57,
     "metadata": {},
     "output_type": "execute_result"
    }
   ],
   "source": [
    "correlation(outlier, 'x', 'y')"
   ]
  },
  {
   "cell_type": "markdown",
   "metadata": {},
   "source": [
    "### Ecological Correlations ###"
   ]
  },
  {
   "cell_type": "code",
   "execution_count": 66,
   "metadata": {},
   "outputs": [
    {
     "data": {
      "text/html": [
       "<table border=\"1\" class=\"dataframe\">\n",
       "    <thead>\n",
       "        <tr>\n",
       "            <th>State</th> <th>Participation Rate</th> <th>Critical Reading</th> <th>Math</th> <th>Writing</th> <th>Combined</th>\n",
       "        </tr>\n",
       "    </thead>\n",
       "    <tbody>\n",
       "        <tr>\n",
       "            <td>Alabama      </td> <td>6.7               </td> <td>547             </td> <td>538 </td> <td>532    </td> <td>1617    </td>\n",
       "        </tr>\n",
       "        <tr>\n",
       "            <td>Arizona      </td> <td>36.4              </td> <td>522             </td> <td>525 </td> <td>500    </td> <td>1547    </td>\n",
       "        </tr>\n",
       "        <tr>\n",
       "            <td>Arkansas     </td> <td>4.2               </td> <td>573             </td> <td>571 </td> <td>554    </td> <td>1698    </td>\n",
       "        </tr>\n",
       "        <tr>\n",
       "            <td>Colorado     </td> <td>14.3              </td> <td>582             </td> <td>586 </td> <td>567    </td> <td>1735    </td>\n",
       "        </tr>\n",
       "        <tr>\n",
       "            <td>Illinois     </td> <td>4.6               </td> <td>599             </td> <td>616 </td> <td>587    </td> <td>1802    </td>\n",
       "        </tr>\n",
       "        <tr>\n",
       "            <td>Iowa         </td> <td>3.1               </td> <td>605             </td> <td>611 </td> <td>578    </td> <td>1794    </td>\n",
       "        </tr>\n",
       "        <tr>\n",
       "            <td>Kansas       </td> <td>5.3               </td> <td>591             </td> <td>596 </td> <td>566    </td> <td>1753    </td>\n",
       "        </tr>\n",
       "        <tr>\n",
       "            <td>Kentucky     </td> <td>4.6               </td> <td>589             </td> <td>585 </td> <td>572    </td> <td>1746    </td>\n",
       "        </tr>\n",
       "        <tr>\n",
       "            <td>Louisiana    </td> <td>4.6               </td> <td>561             </td> <td>556 </td> <td>550    </td> <td>1667    </td>\n",
       "        </tr>\n",
       "        <tr>\n",
       "            <td>Michigan     </td> <td>3.8               </td> <td>593             </td> <td>610 </td> <td>581    </td> <td>1784    </td>\n",
       "        </tr>\n",
       "        <tr>\n",
       "            <td>Minnesota    </td> <td>5.9               </td> <td>598             </td> <td>610 </td> <td>578    </td> <td>1786    </td>\n",
       "        </tr>\n",
       "        <tr>\n",
       "            <td>Mississippi  </td> <td>3.2               </td> <td>583             </td> <td>566 </td> <td>565    </td> <td>1714    </td>\n",
       "        </tr>\n",
       "        <tr>\n",
       "            <td>Missouri     </td> <td>4.2               </td> <td>595             </td> <td>597 </td> <td>579    </td> <td>1771    </td>\n",
       "        </tr>\n",
       "        <tr>\n",
       "            <td>Montana      </td> <td>17.9              </td> <td>555             </td> <td>552 </td> <td>530    </td> <td>1637    </td>\n",
       "        </tr>\n",
       "        <tr>\n",
       "            <td>Nebraska     </td> <td>3.7               </td> <td>589             </td> <td>587 </td> <td>569    </td> <td>1745    </td>\n",
       "        </tr>\n",
       "        <tr>\n",
       "            <td>New Mexico   </td> <td>12.3              </td> <td>548             </td> <td>543 </td> <td>526    </td> <td>1617    </td>\n",
       "        </tr>\n",
       "        <tr>\n",
       "            <td>North Dakota </td> <td>2.3               </td> <td>612             </td> <td>620 </td> <td>584    </td> <td>1816    </td>\n",
       "        </tr>\n",
       "        <tr>\n",
       "            <td>Ohio         </td> <td>15.1              </td> <td>555             </td> <td>562 </td> <td>535    </td> <td>1652    </td>\n",
       "        </tr>\n",
       "        <tr>\n",
       "            <td>Oklahoma     </td> <td>4.5               </td> <td>576             </td> <td>571 </td> <td>550    </td> <td>1697    </td>\n",
       "        </tr>\n",
       "        <tr>\n",
       "            <td>Oregon       </td> <td>47.9              </td> <td>523             </td> <td>522 </td> <td>499    </td> <td>1544    </td>\n",
       "        </tr>\n",
       "        <tr>\n",
       "            <td>South Dakota </td> <td>2.9               </td> <td>604             </td> <td>609 </td> <td>579    </td> <td>1792    </td>\n",
       "        </tr>\n",
       "        <tr>\n",
       "            <td>Tennessee    </td> <td>7.9               </td> <td>578             </td> <td>570 </td> <td>566    </td> <td>1714    </td>\n",
       "        </tr>\n",
       "        <tr>\n",
       "            <td>Utah         </td> <td>5.2               </td> <td>571             </td> <td>568 </td> <td>551    </td> <td>1690    </td>\n",
       "        </tr>\n",
       "        <tr>\n",
       "            <td>West Virginia</td> <td>14.8              </td> <td>517             </td> <td>505 </td> <td>500    </td> <td>1522    </td>\n",
       "        </tr>\n",
       "        <tr>\n",
       "            <td>Wisconsin    </td> <td>3.9               </td> <td>596             </td> <td>608 </td> <td>578    </td> <td>1782    </td>\n",
       "        </tr>\n",
       "        <tr>\n",
       "            <td>Wyoming      </td> <td>3.3               </td> <td>590             </td> <td>599 </td> <td>573    </td> <td>1762    </td>\n",
       "        </tr>\n",
       "    </tbody>\n",
       "</table>"
      ],
      "text/plain": [
       "<IPython.core.display.HTML object>"
      ]
     },
     "metadata": {},
     "output_type": "display_data"
    }
   ],
   "source": [
    "sat2014 = Table.read_table('data/sat2014.csv').sort('State')\n",
    "sat2014.sort('Participation Rate')\n",
    "\n",
    "#LOW participation rate in requiring SAT scores\n",
    "# tell me what is the correlation between critical reading and math\n",
    "# in the states with a participation rate of 50% and under?\n",
    "# compute r (correlation coefficient)\n",
    "pr_50_under = sat2014.where('Participation Rate', are.below_or_equal_to(50))#.scatter('Critical Reading','Math')\n",
    "correlation(pr_50_under, 'Critical Reading','Math')\n",
    "# is there some relationship between the states with a low participation rate?\n",
    "\n",
    "# HIGH participation rate in requiring SAT scores\n",
    "# tell me what is the correlation between critical reading and math\n",
    "# in the states with a participation rate of 50% and higher?\n",
    "# compute r (correlation coefficient)\n",
    "\n",
    "# is there some relationship between the states with a low participation rate?\n",
    "pr_50_under.show()"
   ]
  },
  {
   "cell_type": "code",
   "execution_count": 59,
   "metadata": {},
   "outputs": [
    {
     "data": {
      "image/png": "[encoded data removed]",
      "text/plain": [
       "<Figure size 360x360 with 1 Axes>"
      ]
     },
     "metadata": {},
     "output_type": "display_data"
    }
   ],
   "source": [
    "sat2014.scatter('Critical Reading', 'Math')"
   ]
  },
  {
   "cell_type": "code",
   "execution_count": 60,
   "metadata": {},
   "outputs": [
    {
     "data": {
      "text/plain": [
       "0.9847558411067434"
      ]
     },
     "execution_count": 60,
     "metadata": {},
     "output_type": "execute_result"
    }
   ],
   "source": [
    "correlation(sat2014, 'Critical Reading', 'Math')"
   ]
  },
  {
   "cell_type": "code",
   "execution_count": null,
   "metadata": {},
   "outputs": [],
   "source": []
  }
 ],
 "metadata": {
  "anaconda-cloud": {},
  "kernelspec": {
   "display_name": "Python 3",
   "language": "python",
   "name": "python3"
  },
  "language_info": {
   "codemirror_mode": {
    "name": "ipython",
    "version": 3
   },
   "file_extension": ".py",
   "mimetype": "text/x-python",
   "name": "python",
   "nbconvert_exporter": "python",
   "pygments_lexer": "ipython3",
   "version": "3.7.6"
  },
  "toc": {
   "base_numbering": 1,
   "nav_menu": {},
   "number_sections": false,
   "sideBar": true,
   "skip_h1_title": false,
   "title_cell": "Table of Contents",
   "title_sidebar": "Contents",
   "toc_cell": false,
   "toc_position": {},
   "toc_section_display": true,
   "toc_window_display": false
  }
 },
 "nbformat": 4,
 "nbformat_minor": 1
}
